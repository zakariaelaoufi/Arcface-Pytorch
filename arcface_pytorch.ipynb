{
  "metadata": {
    "kernelspec": {
      "name": "python3",
      "display_name": "Python 3",
      "language": "python"
    },
    "language_info": {
      "name": "python",
      "version": "3.11.13",
      "mimetype": "text/x-python",
      "codemirror_mode": {
        "name": "ipython",
        "version": 3
      },
      "pygments_lexer": "ipython3",
      "nbconvert_exporter": "python",
      "file_extension": ".py"
    },
    "colab": {
      "provenance": [],
      "gpuType": "T4",
      "name": "final-arcface-pytorch-enhanced",
      "include_colab_link": true
    },
    "accelerator": "GPU",
    "kaggle": {
      "accelerator": "gpu",
      "dataSources": [
        {
          "sourceId": 3557332,
          "sourceType": "datasetVersion",
          "datasetId": 2138237
        }
      ],
      "isInternetEnabled": true,
      "language": "python",
      "sourceType": "notebook",
      "isGpuEnabled": true
    }
  },
  "nbformat_minor": 0,
  "nbformat": 4,
  "cells": [
    {
      "cell_type": "markdown",
      "metadata": {
        "id": "view-in-github",
        "colab_type": "text"
      },
      "source": [
        "<a href=\"https://colab.research.google.com/github/zakariaelaoufi/arcface-pytorch/blob/main/arcface_pytorch.ipynb\" target=\"_parent\"><img src=\"https://colab.research.google.com/assets/colab-badge.svg\" alt=\"Open In Colab\"/></a>"
      ]
    },
    {
      "source": [
        "# IMPORTANT: RUN THIS CELL IN ORDER TO IMPORT YOUR KAGGLE DATA SOURCES,\n",
        "# THEN FEEL FREE TO DELETE THIS CELL.\n",
        "# NOTE: THIS NOTEBOOK ENVIRONMENT DIFFERS FROM KAGGLE'S PYTHON\n",
        "# ENVIRONMENT SO THERE MAY BE MISSING LIBRARIES USED BY YOUR\n",
        "# NOTEBOOK.\n",
        "import kagglehub\n",
        "hearfool_vggface2_path = kagglehub.dataset_download('hearfool/vggface2')\n",
        "\n",
        "print('Data source import complete.')\n"
      ],
      "metadata": {
        "id": "blIO3mIsVAbp"
      },
      "cell_type": "code",
      "outputs": [],
      "execution_count": null
    },
    {
      "cell_type": "code",
      "source": [
        "!pip install opendatasets --quiet\n",
        "\n",
        "import opendatasets as od\n",
        "import os\n",
        "\n",
        "# od.download('https://www.kaggle.com/datasets/hearfool/vggface2')"
      ],
      "metadata": {
        "id": "4APLC-I6ilXn",
        "trusted": true
      },
      "outputs": [],
      "execution_count": null
    },
    {
      "cell_type": "code",
      "source": [
        "import pandas as pd\n",
        "import cv2\n",
        "import numpy as np\n",
        "import matplotlib.pyplot as plt"
      ],
      "metadata": {
        "id": "appaKgQJilaN",
        "trusted": true
      },
      "outputs": [],
      "execution_count": null
    },
    {
      "cell_type": "code",
      "source": [
        "path_data = '/kaggle/input/vggface2'"
      ],
      "metadata": {
        "id": "wUC0rsKVilc1",
        "trusted": true
      },
      "outputs": [],
      "execution_count": null
    },
    {
      "cell_type": "code",
      "source": [
        "def generate_vggface_df(dir):\n",
        "  image_path = []\n",
        "  image_label = []\n",
        "  for folder in os.listdir(dir):\n",
        "      for label in os.listdir(dir + \"/\" + folder):\n",
        "          for image in os.listdir(dir + \"/\" + folder + \"/\" + label):\n",
        "              curr_path = dir + \"/\" + folder + \"/\" + label + \"/\" + image\n",
        "              image_path.append(curr_path)\n",
        "              image_label.append(label)\n",
        "\n",
        "  return pd.DataFrame(zip(image_path, image_label), columns = ['image_path', 'label'])"
      ],
      "metadata": {
        "id": "RXWLdVbnilfh",
        "trusted": true
      },
      "outputs": [],
      "execution_count": null
    },
    {
      "cell_type": "code",
      "source": [
        "train_df = generate_vggface_df(path_data)\n",
        "# val_df = generate_vggface_df(path_val)"
      ],
      "metadata": {
        "id": "8PHv5KNMiljT",
        "trusted": true
      },
      "outputs": [],
      "execution_count": null
    },
    {
      "cell_type": "code",
      "source": [
        "len(train_df)"
      ],
      "metadata": {
        "trusted": true,
        "id": "noflAfU9VAbz"
      },
      "outputs": [],
      "execution_count": null
    },
    {
      "cell_type": "code",
      "source": [
        "class_idx = {}\n",
        "for i, label in enumerate(sorted(train_df['label'].unique())):\n",
        "    class_idx[label] = i"
      ],
      "metadata": {
        "trusted": true,
        "id": "5KCkHJYRVAb0"
      },
      "outputs": [],
      "execution_count": null
    },
    {
      "cell_type": "code",
      "source": [
        "train_df['labels_'] = train_df['label'].map(class_idx)"
      ],
      "metadata": {
        "trusted": true,
        "id": "TTIWKHiAVAb1"
      },
      "outputs": [],
      "execution_count": null
    },
    {
      "cell_type": "code",
      "source": [
        "# train_df.to_csv(\"vggfave_train.csv\")\n",
        "# val_df.to_csv(\"vggfave_val.csv\")"
      ],
      "metadata": {
        "id": "iLgOA3clsdy8",
        "trusted": true
      },
      "outputs": [],
      "execution_count": null
    },
    {
      "cell_type": "code",
      "source": [
        "train_df.sample(5)"
      ],
      "metadata": {
        "trusted": true,
        "id": "ZTwz0mUhVAb2"
      },
      "outputs": [],
      "execution_count": null
    },
    {
      "cell_type": "code",
      "source": [
        "from sklearn.model_selection import train_test_split\n",
        "\n",
        "train_df, val_df = train_test_split(train_df, test_size=0.12, stratify=train_df['labels_'], random_state=42)\n",
        "val_df, test_df = train_test_split(val_df, test_size=0.4, stratify=val_df['labels_'], random_state=42)"
      ],
      "metadata": {
        "id": "ZCQ5BRtssco1",
        "trusted": true
      },
      "outputs": [],
      "execution_count": null
    },
    {
      "cell_type": "code",
      "source": [
        "val_df.sample(5)"
      ],
      "metadata": {
        "id": "qBQqlTqSill9",
        "trusted": true
      },
      "outputs": [],
      "execution_count": null
    },
    {
      "cell_type": "code",
      "source": [
        "test_df.sample(5)"
      ],
      "metadata": {
        "id": "nAmol_Zfiloy",
        "trusted": true
      },
      "outputs": [],
      "execution_count": null
    },
    {
      "cell_type": "code",
      "source": [
        "len(train_df), len(val_df), len(test_df)"
      ],
      "metadata": {
        "id": "QYbfwte9ilrb",
        "trusted": true
      },
      "outputs": [],
      "execution_count": null
    },
    {
      "cell_type": "code",
      "source": [
        "train_df.plot(kind='hist')"
      ],
      "metadata": {
        "id": "Y1LT80r5ilue",
        "trusted": true
      },
      "outputs": [],
      "execution_count": null
    },
    {
      "cell_type": "code",
      "source": [
        "path_sample = val_df.sample(1).iloc[0]\n",
        "print(path_sample)"
      ],
      "metadata": {
        "id": "BTzBlaoLilxl",
        "trusted": true
      },
      "outputs": [],
      "execution_count": null
    },
    {
      "cell_type": "code",
      "source": [
        "image = cv2.imread(path_sample['image_path'])\n",
        "image_rgb = cv2.cvtColor(image, cv2.COLOR_BGR2RGB)\n",
        "plt.title(f\"{path_sample['label']} -- {path_sample['labels_']}\")\n",
        "plt.imshow(image_rgb)\n",
        "plt.show()"
      ],
      "metadata": {
        "id": "B2OvWJ0Mil0n",
        "trusted": true
      },
      "outputs": [],
      "execution_count": null
    },
    {
      "cell_type": "code",
      "source": [
        "import torch\n",
        "import torch.nn as nn\n",
        "from torch.optim import Adam\n",
        "from torch.utils.data import Dataset, DataLoader\n",
        "from torch.nn import CrossEntropyLoss\n",
        "from torchvision.transforms import transforms\n",
        "import torch.nn.functional as F\n",
        "from PIL import Image\n",
        "from tqdm import tqdm\n",
        "import datetime as dt\n",
        "from sklearn.metrics import accuracy_score\n",
        "import kagglehub\n",
        "\n",
        "device = 'cuda' if torch.cuda.is_available() else 'cpu'"
      ],
      "metadata": {
        "id": "zf97PDcRJqVg",
        "trusted": true
      },
      "outputs": [],
      "execution_count": null
    },
    {
      "cell_type": "code",
      "source": [
        "def resize_image(image, dsize=(224, 224)):\n",
        "    resized_image = cv2.resize(image, dsize=dsize, interpolation=cv2.INTER_LANCZOS4)\n",
        "    return resized_image"
      ],
      "metadata": {
        "id": "nkXXK_QaJNt4",
        "trusted": true
      },
      "outputs": [],
      "execution_count": null
    },
    {
      "cell_type": "code",
      "source": [
        "transformer = transforms.Compose([\n",
        "    transforms.ToTensor(),\n",
        "    transforms.ConvertImageDtype(torch.float)\n",
        "])\n",
        "\n",
        "transform_augmented = transforms.Compose([\n",
        "    transforms.ToPILImage(),\n",
        "    transforms.RandomHorizontalFlip(),\n",
        "    transforms.RandomRotation(10),\n",
        "    transforms.ToTensor(),\n",
        "    transforms.ConvertImageDtype(torch.float)\n",
        "])"
      ],
      "metadata": {
        "id": "tXQMon-NHkt5",
        "trusted": true
      },
      "outputs": [],
      "execution_count": null
    },
    {
      "cell_type": "code",
      "source": [
        "class customDatasets(Dataset):\n",
        "  def __init__(self, dataframe, transform=None):\n",
        "     super().__init__()\n",
        "     self.dataframe = dataframe\n",
        "     self.transform = transform\n",
        "\n",
        "  def __len__(self):\n",
        "    return len(self.dataframe)\n",
        "\n",
        "  def __getitem__(self, index):\n",
        "    image_path = self.dataframe.iloc[index, 0]\n",
        "    image = cv2.imread(image_path)\n",
        "\n",
        "    if image is None:\n",
        "        raise ValueError(f\"Image not found or unreadable at path: {image_path}\")\n",
        "\n",
        "    image = cv2.cvtColor(image, cv2.COLOR_BGR2RGB)  # Convert BGR to RGB\n",
        "    image_resized = resize_image(image)\n",
        "\n",
        "    label = torch.tensor(int(self.dataframe.iloc[index, 2]), dtype=torch.long)\n",
        "\n",
        "    if self.transform:\n",
        "        image_resized = self.transform(image_resized)\n",
        "\n",
        "    return image_resized, label\n"
      ],
      "metadata": {
        "id": "8PVLG1nOG3Q0",
        "trusted": true
      },
      "outputs": [],
      "execution_count": null
    },
    {
      "cell_type": "code",
      "source": [
        "train_dataset = customDatasets(train_df, transform=transformer)\n",
        "test_dataset = customDatasets(test_df, transform=transformer)\n",
        "val_dataset = customDatasets(val_df, transform=transformer)"
      ],
      "metadata": {
        "id": "okwuf0aRG35P",
        "trusted": true
      },
      "outputs": [],
      "execution_count": null
    },
    {
      "cell_type": "code",
      "source": [
        "train_dataloader = DataLoader(train_dataset, batch_size=64, shuffle=True)\n",
        "test_dataloader = DataLoader(test_dataset, batch_size=64, shuffle=True)\n",
        "val_dataloader = DataLoader(val_dataset, batch_size=64, shuffle=True)"
      ],
      "metadata": {
        "id": "ncGiYaIJHx0A",
        "trusted": true
      },
      "outputs": [],
      "execution_count": null
    },
    {
      "cell_type": "code",
      "source": [
        "images, labels = next(iter(train_dataloader))\n",
        "images = images.cpu().numpy()\n",
        "labels = labels.cpu().numpy()\n",
        "\n",
        "for i in range(len(images)):\n",
        "    image = images[i].transpose(1, 2, 0)  # Convert (C, H, W) → (H, W, C)\n",
        "\n",
        "    print(image.shape)\n",
        "    plt.imshow(image, cmap='gray')\n",
        "    plt.title(labels[i])\n",
        "    plt.show()\n",
        "    break"
      ],
      "metadata": {
        "id": "nxIj0af8G39D",
        "trusted": true
      },
      "outputs": [],
      "execution_count": null
    },
    {
      "cell_type": "code",
      "source": [
        "class FAPBackbone(nn.Module):\n",
        "    def __init__(self, embedding_dim=512):\n",
        "        super().__init__()\n",
        "\n",
        "        self.features = nn.Sequential(\n",
        "            # Block 1\n",
        "            nn.Conv2d(3, 32, kernel_size=5, padding=2),\n",
        "            nn.BatchNorm2d(32),\n",
        "            nn.ReLU(inplace=True),\n",
        "            nn.Conv2d(32, 32, kernel_size=3, padding=1),\n",
        "            nn.BatchNorm2d(32),\n",
        "            nn.ReLU(inplace=True),\n",
        "            nn.MaxPool2d(kernel_size=2),\n",
        "\n",
        "            # Block 2\n",
        "            nn.Conv2d(32, 64, kernel_size=5, padding=2),\n",
        "            nn.BatchNorm2d(64),\n",
        "            nn.ReLU(inplace=True),\n",
        "            nn.Conv2d(64, 128, kernel_size=3, padding=1),\n",
        "            nn.BatchNorm2d(128),\n",
        "            nn.ReLU(inplace=True),\n",
        "            nn.MaxPool2d(kernel_size=2),\n",
        "\n",
        "            # Block 3\n",
        "            nn.Conv2d(128, 128, kernel_size=3, padding=1),\n",
        "            nn.BatchNorm2d(128),\n",
        "            nn.ReLU(inplace=True),\n",
        "            nn.Conv2d(128, 256, kernel_size=3, padding=1),\n",
        "            nn.BatchNorm2d(256),\n",
        "            nn.ReLU(inplace=True),\n",
        "            nn.MaxPool2d(kernel_size=2),\n",
        "\n",
        "            # Block 4\n",
        "            nn.Conv2d(256, 512, kernel_size=3, padding=1),\n",
        "            nn.BatchNorm2d(512),\n",
        "            nn.ReLU(inplace=True),\n",
        "            nn.MaxPool2d(kernel_size=2)\n",
        "        )\n",
        "\n",
        "        self.global_pool = nn.AdaptiveAvgPool2d((1, 1))\n",
        "        self.flatten = nn.Flatten()\n",
        "\n",
        "        self.embedding = nn.Sequential(\n",
        "            nn.Linear(512, 512),\n",
        "            nn.BatchNorm1d(512),\n",
        "            nn.ReLU(inplace=True),\n",
        "            nn.Dropout(0.5),\n",
        "            nn.Linear(512, embedding_dim),\n",
        "            nn.BatchNorm1d(embedding_dim),\n",
        "            nn.Dropout(0.3)\n",
        "        )\n",
        "\n",
        "    def forward(self, x):\n",
        "        x = self.features(x)\n",
        "        x = self.global_pool(x)\n",
        "        x = self.flatten(x)\n",
        "        return x"
      ],
      "metadata": {
        "id": "ZH1avhLj1MV-",
        "trusted": true
      },
      "outputs": [],
      "execution_count": null
    },
    {
      "cell_type": "code",
      "source": [
        "class ArcFace(nn.Module):\n",
        "    def __init__(self, in_features, num_classes, s=30.0, m=0.5):\n",
        "        super().__init__()\n",
        "        self.s = s\n",
        "        self.m = m\n",
        "        self.weight = nn.Parameter(torch.randn(num_classes, in_features))\n",
        "        nn.init.xavier_uniform_(self.weight)\n",
        "\n",
        "    def forward(self, embeddings, labels):\n",
        "        embeddings = F.normalize(embeddings)\n",
        "        W = F.normalize(self.weight)\n",
        "\n",
        "        # Cosine similarity\n",
        "        cos_theta = torch.matmul(embeddings, W.t()).clamp(-1, 1)\n",
        "\n",
        "        # Apply angular margin\n",
        "        theta = torch.acos(cos_theta)\n",
        "        cos_theta_m = torch.cos(theta + self.m)\n",
        "\n",
        "        # One-hot encoding\n",
        "        one_hot = F.one_hot(labels, num_classes=num_classes).float()\n",
        "\n",
        "        # Apply margin to correct class\n",
        "        logits = self.s * (one_hot * cos_theta_m + (1 - one_hot) * cos_theta)\n",
        "        return logits"
      ],
      "metadata": {
        "id": "QDz2hNhuArTP",
        "trusted": true
      },
      "outputs": [],
      "execution_count": null
    },
    {
      "cell_type": "code",
      "source": [
        "class FaceNet(nn.Module):\n",
        "    def __init__(self, num_classes, embedding_dim=512):\n",
        "        super().__init__()\n",
        "        self.backbone = FAPBackbone(embedding_dim)\n",
        "        self.arcface = ArcFace(embedding_dim, num_classes)\n",
        "\n",
        "    def forward(self, x, labels=None):\n",
        "        embeddings = self.backbone(x)\n",
        "        if labels is not None:\n",
        "            return self.arcface(embeddings, labels)\n",
        "        return embeddings"
      ],
      "metadata": {
        "trusted": true,
        "id": "ChqYh5qcVAb_"
      },
      "outputs": [],
      "execution_count": null
    },
    {
      "cell_type": "code",
      "source": [
        "num_classes = len(train_df['label'].unique())\n",
        "num_class2 = len(val_df['label'].unique())\n",
        "num_class3 = len(test_df['label'].unique())\n",
        "print(num_classes, num_class2, num_class3)"
      ],
      "metadata": {
        "trusted": true,
        "id": "gJkpPrMZVAb_"
      },
      "outputs": [],
      "execution_count": null
    },
    {
      "cell_type": "code",
      "source": [
        "train_files = set(train_df['image_path'])\n",
        "val_files = set(val_df['image_path'])\n",
        "print(f\"Overlapping files: {len(train_files & val_files)}\")"
      ],
      "metadata": {
        "trusted": true,
        "id": "P7AJLAjdVAb_"
      },
      "outputs": [],
      "execution_count": null
    },
    {
      "cell_type": "code",
      "source": [
        "device = torch.device(\"cuda\" if torch.cuda.is_available() else \"cpu\")\n",
        "model = FaceNet(num_classes=num_classes, embedding_dim=512).to(device)\n",
        "print(f\"Model initialized on {device}\")"
      ],
      "metadata": {
        "id": "CSafTfVv67wB",
        "trusted": true
      },
      "outputs": [],
      "execution_count": null
    },
    {
      "cell_type": "code",
      "source": [
        "from collections import Counter\n",
        "print(Counter(train_df['labels_']).most_common(10))"
      ],
      "metadata": {
        "trusted": true,
        "id": "CtQ4aSHEVAcB"
      },
      "outputs": [],
      "execution_count": null
    },
    {
      "cell_type": "code",
      "source": [
        "from torchsummary import summary\n",
        "\n",
        "summary(model, input_size=(3, 224, 224))"
      ],
      "metadata": {
        "id": "ckLTbOqGfsp7",
        "trusted": true
      },
      "outputs": [],
      "execution_count": null
    },
    {
      "cell_type": "code",
      "source": [
        "LR = 5e-3\n",
        "EPOCHS = 4\n",
        "criterion = CrossEntropyLoss()\n",
        "optimizer = Adam(model.parameters(), lr=LR, weight_decay=1e-5)\n",
        "scheduler = torch.optim.lr_scheduler.ReduceLROnPlateau(\n",
        "    optimizer, mode='max', factor=0.5, patience=2\n",
        ")"
      ],
      "metadata": {
        "id": "UMOKSZz4lewf",
        "trusted": true
      },
      "outputs": [],
      "execution_count": null
    },
    {
      "cell_type": "code",
      "source": [
        "print(\"Starting training...\")\n",
        "history = {\n",
        "    'train_loss': [], 'dev_loss': [],\n",
        "    'train_acc': [], 'dev_acc': []\n",
        "}\n",
        "\n",
        "start_time = dt.datetime.now()\n",
        "\n",
        "for epoch in range(EPOCHS):\n",
        "    # Training phase\n",
        "    model.train()\n",
        "    epoch_train_loss = 0\n",
        "    train_correct = 0\n",
        "    train_total = 0\n",
        "\n",
        "    train_loop = tqdm(train_dataloader, desc=f\"Epoch {epoch+1} [Train]\")\n",
        "    for images, labels in train_loop:\n",
        "        images, labels = images.to(device), labels.to(device)\n",
        "\n",
        "        optimizer.zero_grad()\n",
        "        outputs = model(images, labels)\n",
        "        loss = criterion(outputs, labels)\n",
        "        loss.backward()\n",
        "        optimizer.step()\n",
        "\n",
        "        epoch_train_loss += loss.item()\n",
        "        preds = torch.argmax(outputs, 1)\n",
        "        train_correct += (preds == labels).sum().item()\n",
        "        train_total += labels.size(0)\n",
        "\n",
        "        train_loop.set_postfix(loss=loss.item())\n",
        "\n",
        "    # Validation phase\n",
        "    model.eval()\n",
        "    epoch_dev_loss = 0\n",
        "    dev_correct = 0\n",
        "    dev_total = 0\n",
        "\n",
        "    with torch.no_grad():\n",
        "        dev_loop = tqdm(val_dataloader, desc=f\"Epoch {epoch+1}/{EPOCHS} [Val]\")\n",
        "        for images, labels in dev_loop:\n",
        "            images, labels = images.to(device), labels.to(device)\n",
        "\n",
        "            outputs = model(images, labels)\n",
        "            loss = criterion(outputs, labels)\n",
        "            epoch_dev_loss += loss.item()\n",
        "\n",
        "            preds = torch.argmax(outputs, 1)\n",
        "            dev_correct += (preds == labels).sum().item()\n",
        "            dev_total += labels.size(0)\n",
        "\n",
        "            dev_loop.set_postfix(val_loss=loss.item())\n",
        "\n",
        "    # Calculate metrics\n",
        "    train_loss = epoch_train_loss / len(train_dataloader)\n",
        "    dev_loss = epoch_dev_loss / len(val_dataloader)\n",
        "    train_acc = train_correct / train_total\n",
        "    dev_acc = dev_correct / dev_total\n",
        "\n",
        "    # Update history\n",
        "    history['train_loss'].append(train_loss)\n",
        "    history['dev_loss'].append(dev_loss)\n",
        "    history['train_acc'].append(train_acc)\n",
        "    history['dev_acc'].append(dev_acc)\n",
        "\n",
        "    # Update scheduler\n",
        "    scheduler.step(dev_acc)\n",
        "\n",
        "    # Print epoch summary\n",
        "    print(f\"\\nEpoch {epoch+1}/{EPOCHS} Summary:\")\n",
        "    print(f\"Train Loss: {train_loss:.4f} | Acc: {train_acc:.4f}\")\n",
        "    print(f\"Val   Loss: {dev_loss:.4f} | Acc: {dev_acc:.4f}\")\n",
        "    print(\"-\" * 60)\n",
        "\n",
        "# Training completion\n",
        "end_time = dt.datetime.now()\n",
        "print(f\"Training completed in: {end_time - start_time}\")\n",
        "torch.save(model.state_dict(), 'arcface_model.pth')"
      ],
      "metadata": {
        "id": "w_EgUTU6fszw",
        "trusted": true
      },
      "outputs": [],
      "execution_count": null
    },
    {
      "cell_type": "code",
      "source": [
        "# Plot training history\n",
        "plt.figure(figsize=(12, 10))\n",
        "plt.subplot(2, 1, 1)\n",
        "plt.plot(history['train_loss'], label='Train Loss')\n",
        "plt.plot(history['dev_loss'], label='Validation Loss')\n",
        "plt.title('Training and Validation Loss')\n",
        "plt.xlabel('Epochs')\n",
        "plt.ylabel('Loss')\n",
        "plt.legend()\n",
        "plt.grid(True)\n",
        "\n",
        "plt.subplot(2, 1, 2)\n",
        "plt.plot(history['train_acc'], label='Train Accuracy')\n",
        "plt.plot(history['dev_acc'], label='Validation Accuracy')\n",
        "plt.title('Training and Validation Accuracy')\n",
        "plt.xlabel('Epochs')\n",
        "plt.ylabel('Accuracy')\n",
        "plt.legend()\n",
        "plt.grid(True)\n",
        "\n",
        "plt.tight_layout()\n",
        "plt.savefig('training_history.png')\n",
        "plt.show()"
      ],
      "metadata": {
        "id": "xS_T-v9Cfs2a",
        "trusted": true
      },
      "outputs": [],
      "execution_count": null
    }
  ]
}