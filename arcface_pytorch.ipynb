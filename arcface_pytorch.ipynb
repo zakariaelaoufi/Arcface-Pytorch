{
  "cells": [
    {
      "cell_type": "markdown",
      "metadata": {
        "id": "view-in-github",
        "colab_type": "text"
      },
      "source": [
        "<a href=\"https://colab.research.google.com/github/zakariaelaoufi/arcface-pytorch/blob/main/arcface_pytorch.ipynb\" target=\"_parent\"><img src=\"https://colab.research.google.com/assets/colab-badge.svg\" alt=\"Open In Colab\"/></a>"
      ]
    },
    {
      "cell_type": "code",
      "execution_count": 3,
      "id": "03ce2c3e",
      "metadata": {
        "execution": {
          "iopub.execute_input": "2025-08-03T12:49:39.709717Z",
          "iopub.status.busy": "2025-08-03T12:49:39.709077Z",
          "iopub.status.idle": "2025-08-03T12:49:39.716270Z",
          "shell.execute_reply": "2025-08-03T12:49:39.715662Z"
        },
        "id": "03ce2c3e",
        "outputId": "5554f4a5-8058-45e8-944d-ea2239439e03",
        "papermill": {
          "duration": 0.016357,
          "end_time": "2025-08-03T12:49:39.717539",
          "exception": false,
          "start_time": "2025-08-03T12:49:39.701182",
          "status": "completed"
        },
        "tags": [],
        "colab": {
          "base_uri": "https://localhost:8080/"
        }
      },
      "outputs": [
        {
          "output_type": "stream",
          "name": "stdout",
          "text": [
            "Please provide your Kaggle credentials to download this dataset. Learn more: http://bit.ly/kaggle-creds\n",
            "Your Kaggle username: frf\n",
            "Your Kaggle Key: ··········\n",
            "Dataset URL: https://www.kaggle.com/datasets/hearfool/vggface2\n",
            "Downloading vggface2.zip to ./vggface2\n"
          ]
        },
        {
          "output_type": "stream",
          "name": "stderr",
          "text": [
            "100%|██████████| 2.32G/2.32G [00:15<00:00, 160MB/s] \n"
          ]
        },
        {
          "output_type": "stream",
          "name": "stdout",
          "text": [
            "\n"
          ]
        }
      ],
      "source": [
        "# !pip install opendatasets --quiet\n",
        "\n",
        "!pip install opendatasets --quiet\n",
        "\n",
        "import opendatasets as od\n",
        "import os\n",
        "\n",
        "od.download('https://www.kaggle.com/datasets/hearfool/vggface2')"
      ]
    },
    {
      "cell_type": "code",
      "execution_count": 2,
      "id": "5bbe3bf7",
      "metadata": {
        "execution": {
          "iopub.execute_input": "2025-08-03T12:49:39.730841Z",
          "iopub.status.busy": "2025-08-03T12:49:39.730301Z",
          "iopub.status.idle": "2025-08-03T12:49:41.584312Z",
          "shell.execute_reply": "2025-08-03T12:49:41.583717Z"
        },
        "id": "5bbe3bf7",
        "papermill": {
          "duration": 1.861816,
          "end_time": "2025-08-03T12:49:41.585693",
          "exception": false,
          "start_time": "2025-08-03T12:49:39.723877",
          "status": "completed"
        },
        "tags": []
      },
      "outputs": [],
      "source": [
        "import pandas as pd\n",
        "import cv2\n",
        "import numpy as np\n",
        "import matplotlib.pyplot as plt"
      ]
    },
    {
      "cell_type": "code",
      "execution_count": 4,
      "id": "ad32f635",
      "metadata": {
        "execution": {
          "iopub.execute_input": "2025-08-03T12:49:41.598595Z",
          "iopub.status.busy": "2025-08-03T12:49:41.597939Z",
          "iopub.status.idle": "2025-08-03T12:49:41.601136Z",
          "shell.execute_reply": "2025-08-03T12:49:41.600613Z"
        },
        "id": "ad32f635",
        "papermill": {
          "duration": 0.010653,
          "end_time": "2025-08-03T12:49:41.602308",
          "exception": false,
          "start_time": "2025-08-03T12:49:41.591655",
          "status": "completed"
        },
        "tags": []
      },
      "outputs": [],
      "source": [
        "path_data = '/content/vggface2'"
      ]
    },
    {
      "cell_type": "code",
      "execution_count": 5,
      "id": "6db2d6e6",
      "metadata": {
        "execution": {
          "iopub.execute_input": "2025-08-03T12:49:41.615199Z",
          "iopub.status.busy": "2025-08-03T12:49:41.614972Z",
          "iopub.status.idle": "2025-08-03T12:49:41.619300Z",
          "shell.execute_reply": "2025-08-03T12:49:41.618617Z"
        },
        "id": "6db2d6e6",
        "papermill": {
          "duration": 0.011602,
          "end_time": "2025-08-03T12:49:41.620426",
          "exception": false,
          "start_time": "2025-08-03T12:49:41.608824",
          "status": "completed"
        },
        "tags": []
      },
      "outputs": [],
      "source": [
        "def generate_vggface_df(dir):\n",
        "  image_path = []\n",
        "  image_label = []\n",
        "  for folder in os.listdir(dir):\n",
        "      for label in os.listdir(dir + \"/\" + folder):\n",
        "          for image in os.listdir(dir + \"/\" + folder + \"/\" + label):\n",
        "              curr_path = dir + \"/\" + folder + \"/\" + label + \"/\" + image\n",
        "              image_path.append(curr_path)\n",
        "              image_label.append(label)\n",
        "\n",
        "  return pd.DataFrame(zip(image_path, image_label), columns = ['image_path', 'label'])"
      ]
    },
    {
      "cell_type": "code",
      "execution_count": 6,
      "id": "74928e2e",
      "metadata": {
        "execution": {
          "iopub.execute_input": "2025-08-03T12:49:41.632617Z",
          "iopub.status.busy": "2025-08-03T12:49:41.632413Z",
          "iopub.status.idle": "2025-08-03T12:49:49.467184Z",
          "shell.execute_reply": "2025-08-03T12:49:49.466341Z"
        },
        "id": "74928e2e",
        "papermill": {
          "duration": 7.842631,
          "end_time": "2025-08-03T12:49:49.468691",
          "exception": false,
          "start_time": "2025-08-03T12:49:41.626060",
          "status": "completed"
        },
        "tags": []
      },
      "outputs": [],
      "source": [
        "train_df = generate_vggface_df(path_data)\n",
        "# val_df = generate_vggface_df(path_val)"
      ]
    },
    {
      "cell_type": "code",
      "execution_count": 7,
      "id": "f64d5f94",
      "metadata": {
        "execution": {
          "iopub.execute_input": "2025-08-03T12:49:49.481917Z",
          "iopub.status.busy": "2025-08-03T12:49:49.481463Z",
          "iopub.status.idle": "2025-08-03T12:49:49.486489Z",
          "shell.execute_reply": "2025-08-03T12:49:49.485832Z"
        },
        "papermill": {
          "duration": 0.012666,
          "end_time": "2025-08-03T12:49:49.487629",
          "exception": false,
          "start_time": "2025-08-03T12:49:49.474963",
          "status": "completed"
        },
        "tags": [],
        "colab": {
          "base_uri": "https://localhost:8080/"
        },
        "id": "f64d5f94",
        "outputId": "cb85a2ea-1bce-4933-f788-b2209a14fd44"
      },
      "outputs": [
        {
          "output_type": "execute_result",
          "data": {
            "text/plain": [
              "197693"
            ]
          },
          "metadata": {},
          "execution_count": 7
        }
      ],
      "source": [
        "len(train_df)"
      ]
    },
    {
      "cell_type": "code",
      "execution_count": 8,
      "id": "a455c66b",
      "metadata": {
        "execution": {
          "iopub.execute_input": "2025-08-03T12:49:49.499803Z",
          "iopub.status.busy": "2025-08-03T12:49:49.499602Z",
          "iopub.status.idle": "2025-08-03T12:49:49.519632Z",
          "shell.execute_reply": "2025-08-03T12:49:49.518964Z"
        },
        "papermill": {
          "duration": 0.027307,
          "end_time": "2025-08-03T12:49:49.520649",
          "exception": false,
          "start_time": "2025-08-03T12:49:49.493342",
          "status": "completed"
        },
        "tags": [],
        "id": "a455c66b"
      },
      "outputs": [],
      "source": [
        "class_idx = {}\n",
        "for i, label in enumerate(sorted(train_df['label'].unique())):\n",
        "    class_idx[label] = i"
      ]
    },
    {
      "cell_type": "code",
      "execution_count": 9,
      "id": "f1a3b829",
      "metadata": {
        "execution": {
          "iopub.execute_input": "2025-08-03T12:49:49.532827Z",
          "iopub.status.busy": "2025-08-03T12:49:49.532623Z",
          "iopub.status.idle": "2025-08-03T12:49:49.552665Z",
          "shell.execute_reply": "2025-08-03T12:49:49.551987Z"
        },
        "papermill": {
          "duration": 0.027432,
          "end_time": "2025-08-03T12:49:49.553792",
          "exception": false,
          "start_time": "2025-08-03T12:49:49.526360",
          "status": "completed"
        },
        "tags": [],
        "id": "f1a3b829"
      },
      "outputs": [],
      "source": [
        "train_df['label_'] = train_df['label'].map(class_idx)"
      ]
    },
    {
      "cell_type": "code",
      "execution_count": null,
      "id": "697b0486",
      "metadata": {
        "execution": {
          "iopub.execute_input": "2025-08-03T12:49:49.566071Z",
          "iopub.status.busy": "2025-08-03T12:49:49.565853Z",
          "iopub.status.idle": "2025-08-03T12:49:50.036822Z",
          "shell.execute_reply": "2025-08-03T12:49:50.036074Z"
        },
        "id": "697b0486",
        "papermill": {
          "duration": 0.478622,
          "end_time": "2025-08-03T12:49:50.038287",
          "exception": false,
          "start_time": "2025-08-03T12:49:49.559665",
          "status": "completed"
        },
        "tags": []
      },
      "outputs": [],
      "source": [
        "train_df.to_csv(\"vggfave_train.csv\")\n",
        "# val_df.to_csv(\"vggfave_val.csv\")"
      ]
    },
    {
      "cell_type": "code",
      "execution_count": 10,
      "id": "5e0333a1",
      "metadata": {
        "execution": {
          "iopub.execute_input": "2025-08-03T12:49:50.051070Z",
          "iopub.status.busy": "2025-08-03T12:49:50.050816Z",
          "iopub.status.idle": "2025-08-03T12:49:50.073239Z",
          "shell.execute_reply": "2025-08-03T12:49:50.072661Z"
        },
        "papermill": {
          "duration": 0.029823,
          "end_time": "2025-08-03T12:49:50.074280",
          "exception": false,
          "start_time": "2025-08-03T12:49:50.044457",
          "status": "completed"
        },
        "tags": [],
        "colab": {
          "base_uri": "https://localhost:8080/",
          "height": 206
        },
        "id": "5e0333a1",
        "outputId": "98d0ee0c-4bf0-475d-f61d-c4b36f5c18ba"
      },
      "outputs": [
        {
          "output_type": "execute_result",
          "data": {
            "text/plain": [
              "                                         image_path    label  label_\n",
              "126457  /content/vggface2/train/n000172/0165_03.jpg  n000172     169\n",
              "100591  /content/vggface2/train/n000388/0035_01.jpg  n000388     384\n",
              "101495  /content/vggface2/train/n000281/0044_01.jpg  n000281     277\n",
              "136527  /content/vggface2/train/n000041/0009_01.jpg  n000041      40\n",
              "111086  /content/vggface2/train/n000217/0123_01.jpg  n000217     213"
            ],
            "text/html": [
              "\n",
              "  <div id=\"df-d7025a8d-4b4e-4da3-ba2a-eb95fda27536\" class=\"colab-df-container\">\n",
              "    <div>\n",
              "<style scoped>\n",
              "    .dataframe tbody tr th:only-of-type {\n",
              "        vertical-align: middle;\n",
              "    }\n",
              "\n",
              "    .dataframe tbody tr th {\n",
              "        vertical-align: top;\n",
              "    }\n",
              "\n",
              "    .dataframe thead th {\n",
              "        text-align: right;\n",
              "    }\n",
              "</style>\n",
              "<table border=\"1\" class=\"dataframe\">\n",
              "  <thead>\n",
              "    <tr style=\"text-align: right;\">\n",
              "      <th></th>\n",
              "      <th>image_path</th>\n",
              "      <th>label</th>\n",
              "      <th>label_</th>\n",
              "    </tr>\n",
              "  </thead>\n",
              "  <tbody>\n",
              "    <tr>\n",
              "      <th>126457</th>\n",
              "      <td>/content/vggface2/train/n000172/0165_03.jpg</td>\n",
              "      <td>n000172</td>\n",
              "      <td>169</td>\n",
              "    </tr>\n",
              "    <tr>\n",
              "      <th>100591</th>\n",
              "      <td>/content/vggface2/train/n000388/0035_01.jpg</td>\n",
              "      <td>n000388</td>\n",
              "      <td>384</td>\n",
              "    </tr>\n",
              "    <tr>\n",
              "      <th>101495</th>\n",
              "      <td>/content/vggface2/train/n000281/0044_01.jpg</td>\n",
              "      <td>n000281</td>\n",
              "      <td>277</td>\n",
              "    </tr>\n",
              "    <tr>\n",
              "      <th>136527</th>\n",
              "      <td>/content/vggface2/train/n000041/0009_01.jpg</td>\n",
              "      <td>n000041</td>\n",
              "      <td>40</td>\n",
              "    </tr>\n",
              "    <tr>\n",
              "      <th>111086</th>\n",
              "      <td>/content/vggface2/train/n000217/0123_01.jpg</td>\n",
              "      <td>n000217</td>\n",
              "      <td>213</td>\n",
              "    </tr>\n",
              "  </tbody>\n",
              "</table>\n",
              "</div>\n",
              "    <div class=\"colab-df-buttons\">\n",
              "\n",
              "  <div class=\"colab-df-container\">\n",
              "    <button class=\"colab-df-convert\" onclick=\"convertToInteractive('df-d7025a8d-4b4e-4da3-ba2a-eb95fda27536')\"\n",
              "            title=\"Convert this dataframe to an interactive table.\"\n",
              "            style=\"display:none;\">\n",
              "\n",
              "  <svg xmlns=\"http://www.w3.org/2000/svg\" height=\"24px\" viewBox=\"0 -960 960 960\">\n",
              "    <path d=\"M120-120v-720h720v720H120Zm60-500h600v-160H180v160Zm220 220h160v-160H400v160Zm0 220h160v-160H400v160ZM180-400h160v-160H180v160Zm440 0h160v-160H620v160ZM180-180h160v-160H180v160Zm440 0h160v-160H620v160Z\"/>\n",
              "  </svg>\n",
              "    </button>\n",
              "\n",
              "  <style>\n",
              "    .colab-df-container {\n",
              "      display:flex;\n",
              "      gap: 12px;\n",
              "    }\n",
              "\n",
              "    .colab-df-convert {\n",
              "      background-color: #E8F0FE;\n",
              "      border: none;\n",
              "      border-radius: 50%;\n",
              "      cursor: pointer;\n",
              "      display: none;\n",
              "      fill: #1967D2;\n",
              "      height: 32px;\n",
              "      padding: 0 0 0 0;\n",
              "      width: 32px;\n",
              "    }\n",
              "\n",
              "    .colab-df-convert:hover {\n",
              "      background-color: #E2EBFA;\n",
              "      box-shadow: 0px 1px 2px rgba(60, 64, 67, 0.3), 0px 1px 3px 1px rgba(60, 64, 67, 0.15);\n",
              "      fill: #174EA6;\n",
              "    }\n",
              "\n",
              "    .colab-df-buttons div {\n",
              "      margin-bottom: 4px;\n",
              "    }\n",
              "\n",
              "    [theme=dark] .colab-df-convert {\n",
              "      background-color: #3B4455;\n",
              "      fill: #D2E3FC;\n",
              "    }\n",
              "\n",
              "    [theme=dark] .colab-df-convert:hover {\n",
              "      background-color: #434B5C;\n",
              "      box-shadow: 0px 1px 3px 1px rgba(0, 0, 0, 0.15);\n",
              "      filter: drop-shadow(0px 1px 2px rgba(0, 0, 0, 0.3));\n",
              "      fill: #FFFFFF;\n",
              "    }\n",
              "  </style>\n",
              "\n",
              "    <script>\n",
              "      const buttonEl =\n",
              "        document.querySelector('#df-d7025a8d-4b4e-4da3-ba2a-eb95fda27536 button.colab-df-convert');\n",
              "      buttonEl.style.display =\n",
              "        google.colab.kernel.accessAllowed ? 'block' : 'none';\n",
              "\n",
              "      async function convertToInteractive(key) {\n",
              "        const element = document.querySelector('#df-d7025a8d-4b4e-4da3-ba2a-eb95fda27536');\n",
              "        const dataTable =\n",
              "          await google.colab.kernel.invokeFunction('convertToInteractive',\n",
              "                                                    [key], {});\n",
              "        if (!dataTable) return;\n",
              "\n",
              "        const docLinkHtml = 'Like what you see? Visit the ' +\n",
              "          '<a target=\"_blank\" href=https://colab.research.google.com/notebooks/data_table.ipynb>data table notebook</a>'\n",
              "          + ' to learn more about interactive tables.';\n",
              "        element.innerHTML = '';\n",
              "        dataTable['output_type'] = 'display_data';\n",
              "        await google.colab.output.renderOutput(dataTable, element);\n",
              "        const docLink = document.createElement('div');\n",
              "        docLink.innerHTML = docLinkHtml;\n",
              "        element.appendChild(docLink);\n",
              "      }\n",
              "    </script>\n",
              "  </div>\n",
              "\n",
              "\n",
              "    <div id=\"df-fd19fab1-1ec8-4bdf-82a0-a14d9dc3bbaa\">\n",
              "      <button class=\"colab-df-quickchart\" onclick=\"quickchart('df-fd19fab1-1ec8-4bdf-82a0-a14d9dc3bbaa')\"\n",
              "                title=\"Suggest charts\"\n",
              "                style=\"display:none;\">\n",
              "\n",
              "<svg xmlns=\"http://www.w3.org/2000/svg\" height=\"24px\"viewBox=\"0 0 24 24\"\n",
              "     width=\"24px\">\n",
              "    <g>\n",
              "        <path d=\"M19 3H5c-1.1 0-2 .9-2 2v14c0 1.1.9 2 2 2h14c1.1 0 2-.9 2-2V5c0-1.1-.9-2-2-2zM9 17H7v-7h2v7zm4 0h-2V7h2v10zm4 0h-2v-4h2v4z\"/>\n",
              "    </g>\n",
              "</svg>\n",
              "      </button>\n",
              "\n",
              "<style>\n",
              "  .colab-df-quickchart {\n",
              "      --bg-color: #E8F0FE;\n",
              "      --fill-color: #1967D2;\n",
              "      --hover-bg-color: #E2EBFA;\n",
              "      --hover-fill-color: #174EA6;\n",
              "      --disabled-fill-color: #AAA;\n",
              "      --disabled-bg-color: #DDD;\n",
              "  }\n",
              "\n",
              "  [theme=dark] .colab-df-quickchart {\n",
              "      --bg-color: #3B4455;\n",
              "      --fill-color: #D2E3FC;\n",
              "      --hover-bg-color: #434B5C;\n",
              "      --hover-fill-color: #FFFFFF;\n",
              "      --disabled-bg-color: #3B4455;\n",
              "      --disabled-fill-color: #666;\n",
              "  }\n",
              "\n",
              "  .colab-df-quickchart {\n",
              "    background-color: var(--bg-color);\n",
              "    border: none;\n",
              "    border-radius: 50%;\n",
              "    cursor: pointer;\n",
              "    display: none;\n",
              "    fill: var(--fill-color);\n",
              "    height: 32px;\n",
              "    padding: 0;\n",
              "    width: 32px;\n",
              "  }\n",
              "\n",
              "  .colab-df-quickchart:hover {\n",
              "    background-color: var(--hover-bg-color);\n",
              "    box-shadow: 0 1px 2px rgba(60, 64, 67, 0.3), 0 1px 3px 1px rgba(60, 64, 67, 0.15);\n",
              "    fill: var(--button-hover-fill-color);\n",
              "  }\n",
              "\n",
              "  .colab-df-quickchart-complete:disabled,\n",
              "  .colab-df-quickchart-complete:disabled:hover {\n",
              "    background-color: var(--disabled-bg-color);\n",
              "    fill: var(--disabled-fill-color);\n",
              "    box-shadow: none;\n",
              "  }\n",
              "\n",
              "  .colab-df-spinner {\n",
              "    border: 2px solid var(--fill-color);\n",
              "    border-color: transparent;\n",
              "    border-bottom-color: var(--fill-color);\n",
              "    animation:\n",
              "      spin 1s steps(1) infinite;\n",
              "  }\n",
              "\n",
              "  @keyframes spin {\n",
              "    0% {\n",
              "      border-color: transparent;\n",
              "      border-bottom-color: var(--fill-color);\n",
              "      border-left-color: var(--fill-color);\n",
              "    }\n",
              "    20% {\n",
              "      border-color: transparent;\n",
              "      border-left-color: var(--fill-color);\n",
              "      border-top-color: var(--fill-color);\n",
              "    }\n",
              "    30% {\n",
              "      border-color: transparent;\n",
              "      border-left-color: var(--fill-color);\n",
              "      border-top-color: var(--fill-color);\n",
              "      border-right-color: var(--fill-color);\n",
              "    }\n",
              "    40% {\n",
              "      border-color: transparent;\n",
              "      border-right-color: var(--fill-color);\n",
              "      border-top-color: var(--fill-color);\n",
              "    }\n",
              "    60% {\n",
              "      border-color: transparent;\n",
              "      border-right-color: var(--fill-color);\n",
              "    }\n",
              "    80% {\n",
              "      border-color: transparent;\n",
              "      border-right-color: var(--fill-color);\n",
              "      border-bottom-color: var(--fill-color);\n",
              "    }\n",
              "    90% {\n",
              "      border-color: transparent;\n",
              "      border-bottom-color: var(--fill-color);\n",
              "    }\n",
              "  }\n",
              "</style>\n",
              "\n",
              "      <script>\n",
              "        async function quickchart(key) {\n",
              "          const quickchartButtonEl =\n",
              "            document.querySelector('#' + key + ' button');\n",
              "          quickchartButtonEl.disabled = true;  // To prevent multiple clicks.\n",
              "          quickchartButtonEl.classList.add('colab-df-spinner');\n",
              "          try {\n",
              "            const charts = await google.colab.kernel.invokeFunction(\n",
              "                'suggestCharts', [key], {});\n",
              "          } catch (error) {\n",
              "            console.error('Error during call to suggestCharts:', error);\n",
              "          }\n",
              "          quickchartButtonEl.classList.remove('colab-df-spinner');\n",
              "          quickchartButtonEl.classList.add('colab-df-quickchart-complete');\n",
              "        }\n",
              "        (() => {\n",
              "          let quickchartButtonEl =\n",
              "            document.querySelector('#df-fd19fab1-1ec8-4bdf-82a0-a14d9dc3bbaa button');\n",
              "          quickchartButtonEl.style.display =\n",
              "            google.colab.kernel.accessAllowed ? 'block' : 'none';\n",
              "        })();\n",
              "      </script>\n",
              "    </div>\n",
              "\n",
              "    </div>\n",
              "  </div>\n"
            ],
            "application/vnd.google.colaboratory.intrinsic+json": {
              "type": "dataframe",
              "summary": "{\n  \"name\": \"train_df\",\n  \"rows\": 5,\n  \"fields\": [\n    {\n      \"column\": \"image_path\",\n      \"properties\": {\n        \"dtype\": \"string\",\n        \"num_unique_values\": 5,\n        \"samples\": [\n          \"/content/vggface2/train/n000388/0035_01.jpg\",\n          \"/content/vggface2/train/n000217/0123_01.jpg\",\n          \"/content/vggface2/train/n000281/0044_01.jpg\"\n        ],\n        \"semantic_type\": \"\",\n        \"description\": \"\"\n      }\n    },\n    {\n      \"column\": \"label\",\n      \"properties\": {\n        \"dtype\": \"string\",\n        \"num_unique_values\": 5,\n        \"samples\": [\n          \"n000388\",\n          \"n000217\",\n          \"n000281\"\n        ],\n        \"semantic_type\": \"\",\n        \"description\": \"\"\n      }\n    },\n    {\n      \"column\": \"label_\",\n      \"properties\": {\n        \"dtype\": \"number\",\n        \"std\": 127,\n        \"min\": 40,\n        \"max\": 384,\n        \"num_unique_values\": 5,\n        \"samples\": [\n          384,\n          213,\n          277\n        ],\n        \"semantic_type\": \"\",\n        \"description\": \"\"\n      }\n    }\n  ]\n}"
            }
          },
          "metadata": {},
          "execution_count": 10
        }
      ],
      "source": [
        "train_df.sample(5)"
      ]
    },
    {
      "cell_type": "code",
      "execution_count": 11,
      "id": "f87cd8c7",
      "metadata": {
        "execution": {
          "iopub.execute_input": "2025-08-03T12:49:50.087121Z",
          "iopub.status.busy": "2025-08-03T12:49:50.086901Z",
          "iopub.status.idle": "2025-08-03T12:49:51.505225Z",
          "shell.execute_reply": "2025-08-03T12:49:51.504640Z"
        },
        "id": "f87cd8c7",
        "papermill": {
          "duration": 1.426125,
          "end_time": "2025-08-03T12:49:51.506547",
          "exception": false,
          "start_time": "2025-08-03T12:49:50.080422",
          "status": "completed"
        },
        "tags": []
      },
      "outputs": [],
      "source": [
        "from sklearn.model_selection import train_test_split\n",
        "\n",
        "train_df, val_df = train_test_split(train_df, test_size=0.12, stratify=train_df['label_'], random_state=42)\n",
        "val_df, test_df = train_test_split(val_df, test_size=0.4, stratify=val_df['label_'], random_state=42)"
      ]
    },
    {
      "cell_type": "code",
      "execution_count": 12,
      "id": "8ffc785e",
      "metadata": {
        "execution": {
          "iopub.execute_input": "2025-08-03T12:49:51.519808Z",
          "iopub.status.busy": "2025-08-03T12:49:51.519508Z",
          "iopub.status.idle": "2025-08-03T12:49:51.527001Z",
          "shell.execute_reply": "2025-08-03T12:49:51.526428Z"
        },
        "id": "8ffc785e",
        "outputId": "abbca81c-fa32-4289-c075-cfd3719dddfd",
        "papermill": {
          "duration": 0.015444,
          "end_time": "2025-08-03T12:49:51.528251",
          "exception": false,
          "start_time": "2025-08-03T12:49:51.512807",
          "status": "completed"
        },
        "tags": [],
        "colab": {
          "base_uri": "https://localhost:8080/",
          "height": 206
        }
      },
      "outputs": [
        {
          "output_type": "execute_result",
          "data": {
            "text/plain": [
              "                                         image_path    label  label_\n",
              "61977   /content/vggface2/train/n000355/0142_03.jpg  n000355     351\n",
              "5962    /content/vggface2/train/n000300/0031_01.jpg  n000300     296\n",
              "194706    /content/vggface2/val/n001291/0134_01.jpg  n001291     537\n",
              "8771    /content/vggface2/train/n000185/0205_01.jpg  n000185     182\n",
              "99227   /content/vggface2/train/n000108/0093_01.jpg  n000108     107"
            ],
            "text/html": [
              "\n",
              "  <div id=\"df-4e0a5da4-c0b4-4609-8715-7842e4738294\" class=\"colab-df-container\">\n",
              "    <div>\n",
              "<style scoped>\n",
              "    .dataframe tbody tr th:only-of-type {\n",
              "        vertical-align: middle;\n",
              "    }\n",
              "\n",
              "    .dataframe tbody tr th {\n",
              "        vertical-align: top;\n",
              "    }\n",
              "\n",
              "    .dataframe thead th {\n",
              "        text-align: right;\n",
              "    }\n",
              "</style>\n",
              "<table border=\"1\" class=\"dataframe\">\n",
              "  <thead>\n",
              "    <tr style=\"text-align: right;\">\n",
              "      <th></th>\n",
              "      <th>image_path</th>\n",
              "      <th>label</th>\n",
              "      <th>label_</th>\n",
              "    </tr>\n",
              "  </thead>\n",
              "  <tbody>\n",
              "    <tr>\n",
              "      <th>61977</th>\n",
              "      <td>/content/vggface2/train/n000355/0142_03.jpg</td>\n",
              "      <td>n000355</td>\n",
              "      <td>351</td>\n",
              "    </tr>\n",
              "    <tr>\n",
              "      <th>5962</th>\n",
              "      <td>/content/vggface2/train/n000300/0031_01.jpg</td>\n",
              "      <td>n000300</td>\n",
              "      <td>296</td>\n",
              "    </tr>\n",
              "    <tr>\n",
              "      <th>194706</th>\n",
              "      <td>/content/vggface2/val/n001291/0134_01.jpg</td>\n",
              "      <td>n001291</td>\n",
              "      <td>537</td>\n",
              "    </tr>\n",
              "    <tr>\n",
              "      <th>8771</th>\n",
              "      <td>/content/vggface2/train/n000185/0205_01.jpg</td>\n",
              "      <td>n000185</td>\n",
              "      <td>182</td>\n",
              "    </tr>\n",
              "    <tr>\n",
              "      <th>99227</th>\n",
              "      <td>/content/vggface2/train/n000108/0093_01.jpg</td>\n",
              "      <td>n000108</td>\n",
              "      <td>107</td>\n",
              "    </tr>\n",
              "  </tbody>\n",
              "</table>\n",
              "</div>\n",
              "    <div class=\"colab-df-buttons\">\n",
              "\n",
              "  <div class=\"colab-df-container\">\n",
              "    <button class=\"colab-df-convert\" onclick=\"convertToInteractive('df-4e0a5da4-c0b4-4609-8715-7842e4738294')\"\n",
              "            title=\"Convert this dataframe to an interactive table.\"\n",
              "            style=\"display:none;\">\n",
              "\n",
              "  <svg xmlns=\"http://www.w3.org/2000/svg\" height=\"24px\" viewBox=\"0 -960 960 960\">\n",
              "    <path d=\"M120-120v-720h720v720H120Zm60-500h600v-160H180v160Zm220 220h160v-160H400v160Zm0 220h160v-160H400v160ZM180-400h160v-160H180v160Zm440 0h160v-160H620v160ZM180-180h160v-160H180v160Zm440 0h160v-160H620v160Z\"/>\n",
              "  </svg>\n",
              "    </button>\n",
              "\n",
              "  <style>\n",
              "    .colab-df-container {\n",
              "      display:flex;\n",
              "      gap: 12px;\n",
              "    }\n",
              "\n",
              "    .colab-df-convert {\n",
              "      background-color: #E8F0FE;\n",
              "      border: none;\n",
              "      border-radius: 50%;\n",
              "      cursor: pointer;\n",
              "      display: none;\n",
              "      fill: #1967D2;\n",
              "      height: 32px;\n",
              "      padding: 0 0 0 0;\n",
              "      width: 32px;\n",
              "    }\n",
              "\n",
              "    .colab-df-convert:hover {\n",
              "      background-color: #E2EBFA;\n",
              "      box-shadow: 0px 1px 2px rgba(60, 64, 67, 0.3), 0px 1px 3px 1px rgba(60, 64, 67, 0.15);\n",
              "      fill: #174EA6;\n",
              "    }\n",
              "\n",
              "    .colab-df-buttons div {\n",
              "      margin-bottom: 4px;\n",
              "    }\n",
              "\n",
              "    [theme=dark] .colab-df-convert {\n",
              "      background-color: #3B4455;\n",
              "      fill: #D2E3FC;\n",
              "    }\n",
              "\n",
              "    [theme=dark] .colab-df-convert:hover {\n",
              "      background-color: #434B5C;\n",
              "      box-shadow: 0px 1px 3px 1px rgba(0, 0, 0, 0.15);\n",
              "      filter: drop-shadow(0px 1px 2px rgba(0, 0, 0, 0.3));\n",
              "      fill: #FFFFFF;\n",
              "    }\n",
              "  </style>\n",
              "\n",
              "    <script>\n",
              "      const buttonEl =\n",
              "        document.querySelector('#df-4e0a5da4-c0b4-4609-8715-7842e4738294 button.colab-df-convert');\n",
              "      buttonEl.style.display =\n",
              "        google.colab.kernel.accessAllowed ? 'block' : 'none';\n",
              "\n",
              "      async function convertToInteractive(key) {\n",
              "        const element = document.querySelector('#df-4e0a5da4-c0b4-4609-8715-7842e4738294');\n",
              "        const dataTable =\n",
              "          await google.colab.kernel.invokeFunction('convertToInteractive',\n",
              "                                                    [key], {});\n",
              "        if (!dataTable) return;\n",
              "\n",
              "        const docLinkHtml = 'Like what you see? Visit the ' +\n",
              "          '<a target=\"_blank\" href=https://colab.research.google.com/notebooks/data_table.ipynb>data table notebook</a>'\n",
              "          + ' to learn more about interactive tables.';\n",
              "        element.innerHTML = '';\n",
              "        dataTable['output_type'] = 'display_data';\n",
              "        await google.colab.output.renderOutput(dataTable, element);\n",
              "        const docLink = document.createElement('div');\n",
              "        docLink.innerHTML = docLinkHtml;\n",
              "        element.appendChild(docLink);\n",
              "      }\n",
              "    </script>\n",
              "  </div>\n",
              "\n",
              "\n",
              "    <div id=\"df-28431fcf-10da-4de3-9210-a4283735cd15\">\n",
              "      <button class=\"colab-df-quickchart\" onclick=\"quickchart('df-28431fcf-10da-4de3-9210-a4283735cd15')\"\n",
              "                title=\"Suggest charts\"\n",
              "                style=\"display:none;\">\n",
              "\n",
              "<svg xmlns=\"http://www.w3.org/2000/svg\" height=\"24px\"viewBox=\"0 0 24 24\"\n",
              "     width=\"24px\">\n",
              "    <g>\n",
              "        <path d=\"M19 3H5c-1.1 0-2 .9-2 2v14c0 1.1.9 2 2 2h14c1.1 0 2-.9 2-2V5c0-1.1-.9-2-2-2zM9 17H7v-7h2v7zm4 0h-2V7h2v10zm4 0h-2v-4h2v4z\"/>\n",
              "    </g>\n",
              "</svg>\n",
              "      </button>\n",
              "\n",
              "<style>\n",
              "  .colab-df-quickchart {\n",
              "      --bg-color: #E8F0FE;\n",
              "      --fill-color: #1967D2;\n",
              "      --hover-bg-color: #E2EBFA;\n",
              "      --hover-fill-color: #174EA6;\n",
              "      --disabled-fill-color: #AAA;\n",
              "      --disabled-bg-color: #DDD;\n",
              "  }\n",
              "\n",
              "  [theme=dark] .colab-df-quickchart {\n",
              "      --bg-color: #3B4455;\n",
              "      --fill-color: #D2E3FC;\n",
              "      --hover-bg-color: #434B5C;\n",
              "      --hover-fill-color: #FFFFFF;\n",
              "      --disabled-bg-color: #3B4455;\n",
              "      --disabled-fill-color: #666;\n",
              "  }\n",
              "\n",
              "  .colab-df-quickchart {\n",
              "    background-color: var(--bg-color);\n",
              "    border: none;\n",
              "    border-radius: 50%;\n",
              "    cursor: pointer;\n",
              "    display: none;\n",
              "    fill: var(--fill-color);\n",
              "    height: 32px;\n",
              "    padding: 0;\n",
              "    width: 32px;\n",
              "  }\n",
              "\n",
              "  .colab-df-quickchart:hover {\n",
              "    background-color: var(--hover-bg-color);\n",
              "    box-shadow: 0 1px 2px rgba(60, 64, 67, 0.3), 0 1px 3px 1px rgba(60, 64, 67, 0.15);\n",
              "    fill: var(--button-hover-fill-color);\n",
              "  }\n",
              "\n",
              "  .colab-df-quickchart-complete:disabled,\n",
              "  .colab-df-quickchart-complete:disabled:hover {\n",
              "    background-color: var(--disabled-bg-color);\n",
              "    fill: var(--disabled-fill-color);\n",
              "    box-shadow: none;\n",
              "  }\n",
              "\n",
              "  .colab-df-spinner {\n",
              "    border: 2px solid var(--fill-color);\n",
              "    border-color: transparent;\n",
              "    border-bottom-color: var(--fill-color);\n",
              "    animation:\n",
              "      spin 1s steps(1) infinite;\n",
              "  }\n",
              "\n",
              "  @keyframes spin {\n",
              "    0% {\n",
              "      border-color: transparent;\n",
              "      border-bottom-color: var(--fill-color);\n",
              "      border-left-color: var(--fill-color);\n",
              "    }\n",
              "    20% {\n",
              "      border-color: transparent;\n",
              "      border-left-color: var(--fill-color);\n",
              "      border-top-color: var(--fill-color);\n",
              "    }\n",
              "    30% {\n",
              "      border-color: transparent;\n",
              "      border-left-color: var(--fill-color);\n",
              "      border-top-color: var(--fill-color);\n",
              "      border-right-color: var(--fill-color);\n",
              "    }\n",
              "    40% {\n",
              "      border-color: transparent;\n",
              "      border-right-color: var(--fill-color);\n",
              "      border-top-color: var(--fill-color);\n",
              "    }\n",
              "    60% {\n",
              "      border-color: transparent;\n",
              "      border-right-color: var(--fill-color);\n",
              "    }\n",
              "    80% {\n",
              "      border-color: transparent;\n",
              "      border-right-color: var(--fill-color);\n",
              "      border-bottom-color: var(--fill-color);\n",
              "    }\n",
              "    90% {\n",
              "      border-color: transparent;\n",
              "      border-bottom-color: var(--fill-color);\n",
              "    }\n",
              "  }\n",
              "</style>\n",
              "\n",
              "      <script>\n",
              "        async function quickchart(key) {\n",
              "          const quickchartButtonEl =\n",
              "            document.querySelector('#' + key + ' button');\n",
              "          quickchartButtonEl.disabled = true;  // To prevent multiple clicks.\n",
              "          quickchartButtonEl.classList.add('colab-df-spinner');\n",
              "          try {\n",
              "            const charts = await google.colab.kernel.invokeFunction(\n",
              "                'suggestCharts', [key], {});\n",
              "          } catch (error) {\n",
              "            console.error('Error during call to suggestCharts:', error);\n",
              "          }\n",
              "          quickchartButtonEl.classList.remove('colab-df-spinner');\n",
              "          quickchartButtonEl.classList.add('colab-df-quickchart-complete');\n",
              "        }\n",
              "        (() => {\n",
              "          let quickchartButtonEl =\n",
              "            document.querySelector('#df-28431fcf-10da-4de3-9210-a4283735cd15 button');\n",
              "          quickchartButtonEl.style.display =\n",
              "            google.colab.kernel.accessAllowed ? 'block' : 'none';\n",
              "        })();\n",
              "      </script>\n",
              "    </div>\n",
              "\n",
              "    </div>\n",
              "  </div>\n"
            ],
            "application/vnd.google.colaboratory.intrinsic+json": {
              "type": "dataframe",
              "summary": "{\n  \"name\": \"val_df\",\n  \"rows\": 5,\n  \"fields\": [\n    {\n      \"column\": \"image_path\",\n      \"properties\": {\n        \"dtype\": \"string\",\n        \"num_unique_values\": 5,\n        \"samples\": [\n          \"/content/vggface2/train/n000300/0031_01.jpg\",\n          \"/content/vggface2/train/n000108/0093_01.jpg\",\n          \"/content/vggface2/val/n001291/0134_01.jpg\"\n        ],\n        \"semantic_type\": \"\",\n        \"description\": \"\"\n      }\n    },\n    {\n      \"column\": \"label\",\n      \"properties\": {\n        \"dtype\": \"string\",\n        \"num_unique_values\": 5,\n        \"samples\": [\n          \"n000300\",\n          \"n000108\",\n          \"n001291\"\n        ],\n        \"semantic_type\": \"\",\n        \"description\": \"\"\n      }\n    },\n    {\n      \"column\": \"label_\",\n      \"properties\": {\n        \"dtype\": \"number\",\n        \"std\": 165,\n        \"min\": 107,\n        \"max\": 537,\n        \"num_unique_values\": 5,\n        \"samples\": [\n          296,\n          107,\n          537\n        ],\n        \"semantic_type\": \"\",\n        \"description\": \"\"\n      }\n    }\n  ]\n}"
            }
          },
          "metadata": {},
          "execution_count": 12
        }
      ],
      "source": [
        "val_df.sample(5)"
      ]
    },
    {
      "cell_type": "code",
      "execution_count": 13,
      "id": "5ab96fa4",
      "metadata": {
        "execution": {
          "iopub.execute_input": "2025-08-03T12:49:51.541722Z",
          "iopub.status.busy": "2025-08-03T12:49:51.541201Z",
          "iopub.status.idle": "2025-08-03T12:49:51.547846Z",
          "shell.execute_reply": "2025-08-03T12:49:51.547322Z"
        },
        "id": "5ab96fa4",
        "outputId": "5110ebd9-8ff9-40dd-bd11-181a7ff6a993",
        "papermill": {
          "duration": 0.014354,
          "end_time": "2025-08-03T12:49:51.548838",
          "exception": false,
          "start_time": "2025-08-03T12:49:51.534484",
          "status": "completed"
        },
        "tags": [],
        "colab": {
          "base_uri": "https://localhost:8080/",
          "height": 206
        }
      },
      "outputs": [
        {
          "output_type": "execute_result",
          "data": {
            "text/plain": [
              "                                         image_path    label  label_\n",
              "58550   /content/vggface2/train/n000496/0259_01.jpg  n000496     491\n",
              "183003    /content/vggface2/val/n000394/0041_01.jpg  n000394     390\n",
              "9846    /content/vggface2/train/n000102/0321_01.jpg  n000102     101\n",
              "166378  /content/vggface2/train/n000424/0054_01.jpg  n000424     419\n",
              "72463   /content/vggface2/train/n000236/0460_01.jpg  n000236     232"
            ],
            "text/html": [
              "\n",
              "  <div id=\"df-13922834-b8b2-484d-9523-0dbdc6e32fa9\" class=\"colab-df-container\">\n",
              "    <div>\n",
              "<style scoped>\n",
              "    .dataframe tbody tr th:only-of-type {\n",
              "        vertical-align: middle;\n",
              "    }\n",
              "\n",
              "    .dataframe tbody tr th {\n",
              "        vertical-align: top;\n",
              "    }\n",
              "\n",
              "    .dataframe thead th {\n",
              "        text-align: right;\n",
              "    }\n",
              "</style>\n",
              "<table border=\"1\" class=\"dataframe\">\n",
              "  <thead>\n",
              "    <tr style=\"text-align: right;\">\n",
              "      <th></th>\n",
              "      <th>image_path</th>\n",
              "      <th>label</th>\n",
              "      <th>label_</th>\n",
              "    </tr>\n",
              "  </thead>\n",
              "  <tbody>\n",
              "    <tr>\n",
              "      <th>58550</th>\n",
              "      <td>/content/vggface2/train/n000496/0259_01.jpg</td>\n",
              "      <td>n000496</td>\n",
              "      <td>491</td>\n",
              "    </tr>\n",
              "    <tr>\n",
              "      <th>183003</th>\n",
              "      <td>/content/vggface2/val/n000394/0041_01.jpg</td>\n",
              "      <td>n000394</td>\n",
              "      <td>390</td>\n",
              "    </tr>\n",
              "    <tr>\n",
              "      <th>9846</th>\n",
              "      <td>/content/vggface2/train/n000102/0321_01.jpg</td>\n",
              "      <td>n000102</td>\n",
              "      <td>101</td>\n",
              "    </tr>\n",
              "    <tr>\n",
              "      <th>166378</th>\n",
              "      <td>/content/vggface2/train/n000424/0054_01.jpg</td>\n",
              "      <td>n000424</td>\n",
              "      <td>419</td>\n",
              "    </tr>\n",
              "    <tr>\n",
              "      <th>72463</th>\n",
              "      <td>/content/vggface2/train/n000236/0460_01.jpg</td>\n",
              "      <td>n000236</td>\n",
              "      <td>232</td>\n",
              "    </tr>\n",
              "  </tbody>\n",
              "</table>\n",
              "</div>\n",
              "    <div class=\"colab-df-buttons\">\n",
              "\n",
              "  <div class=\"colab-df-container\">\n",
              "    <button class=\"colab-df-convert\" onclick=\"convertToInteractive('df-13922834-b8b2-484d-9523-0dbdc6e32fa9')\"\n",
              "            title=\"Convert this dataframe to an interactive table.\"\n",
              "            style=\"display:none;\">\n",
              "\n",
              "  <svg xmlns=\"http://www.w3.org/2000/svg\" height=\"24px\" viewBox=\"0 -960 960 960\">\n",
              "    <path d=\"M120-120v-720h720v720H120Zm60-500h600v-160H180v160Zm220 220h160v-160H400v160Zm0 220h160v-160H400v160ZM180-400h160v-160H180v160Zm440 0h160v-160H620v160ZM180-180h160v-160H180v160Zm440 0h160v-160H620v160Z\"/>\n",
              "  </svg>\n",
              "    </button>\n",
              "\n",
              "  <style>\n",
              "    .colab-df-container {\n",
              "      display:flex;\n",
              "      gap: 12px;\n",
              "    }\n",
              "\n",
              "    .colab-df-convert {\n",
              "      background-color: #E8F0FE;\n",
              "      border: none;\n",
              "      border-radius: 50%;\n",
              "      cursor: pointer;\n",
              "      display: none;\n",
              "      fill: #1967D2;\n",
              "      height: 32px;\n",
              "      padding: 0 0 0 0;\n",
              "      width: 32px;\n",
              "    }\n",
              "\n",
              "    .colab-df-convert:hover {\n",
              "      background-color: #E2EBFA;\n",
              "      box-shadow: 0px 1px 2px rgba(60, 64, 67, 0.3), 0px 1px 3px 1px rgba(60, 64, 67, 0.15);\n",
              "      fill: #174EA6;\n",
              "    }\n",
              "\n",
              "    .colab-df-buttons div {\n",
              "      margin-bottom: 4px;\n",
              "    }\n",
              "\n",
              "    [theme=dark] .colab-df-convert {\n",
              "      background-color: #3B4455;\n",
              "      fill: #D2E3FC;\n",
              "    }\n",
              "\n",
              "    [theme=dark] .colab-df-convert:hover {\n",
              "      background-color: #434B5C;\n",
              "      box-shadow: 0px 1px 3px 1px rgba(0, 0, 0, 0.15);\n",
              "      filter: drop-shadow(0px 1px 2px rgba(0, 0, 0, 0.3));\n",
              "      fill: #FFFFFF;\n",
              "    }\n",
              "  </style>\n",
              "\n",
              "    <script>\n",
              "      const buttonEl =\n",
              "        document.querySelector('#df-13922834-b8b2-484d-9523-0dbdc6e32fa9 button.colab-df-convert');\n",
              "      buttonEl.style.display =\n",
              "        google.colab.kernel.accessAllowed ? 'block' : 'none';\n",
              "\n",
              "      async function convertToInteractive(key) {\n",
              "        const element = document.querySelector('#df-13922834-b8b2-484d-9523-0dbdc6e32fa9');\n",
              "        const dataTable =\n",
              "          await google.colab.kernel.invokeFunction('convertToInteractive',\n",
              "                                                    [key], {});\n",
              "        if (!dataTable) return;\n",
              "\n",
              "        const docLinkHtml = 'Like what you see? Visit the ' +\n",
              "          '<a target=\"_blank\" href=https://colab.research.google.com/notebooks/data_table.ipynb>data table notebook</a>'\n",
              "          + ' to learn more about interactive tables.';\n",
              "        element.innerHTML = '';\n",
              "        dataTable['output_type'] = 'display_data';\n",
              "        await google.colab.output.renderOutput(dataTable, element);\n",
              "        const docLink = document.createElement('div');\n",
              "        docLink.innerHTML = docLinkHtml;\n",
              "        element.appendChild(docLink);\n",
              "      }\n",
              "    </script>\n",
              "  </div>\n",
              "\n",
              "\n",
              "    <div id=\"df-e026e8d3-2233-44a3-9cd0-87f4279121b4\">\n",
              "      <button class=\"colab-df-quickchart\" onclick=\"quickchart('df-e026e8d3-2233-44a3-9cd0-87f4279121b4')\"\n",
              "                title=\"Suggest charts\"\n",
              "                style=\"display:none;\">\n",
              "\n",
              "<svg xmlns=\"http://www.w3.org/2000/svg\" height=\"24px\"viewBox=\"0 0 24 24\"\n",
              "     width=\"24px\">\n",
              "    <g>\n",
              "        <path d=\"M19 3H5c-1.1 0-2 .9-2 2v14c0 1.1.9 2 2 2h14c1.1 0 2-.9 2-2V5c0-1.1-.9-2-2-2zM9 17H7v-7h2v7zm4 0h-2V7h2v10zm4 0h-2v-4h2v4z\"/>\n",
              "    </g>\n",
              "</svg>\n",
              "      </button>\n",
              "\n",
              "<style>\n",
              "  .colab-df-quickchart {\n",
              "      --bg-color: #E8F0FE;\n",
              "      --fill-color: #1967D2;\n",
              "      --hover-bg-color: #E2EBFA;\n",
              "      --hover-fill-color: #174EA6;\n",
              "      --disabled-fill-color: #AAA;\n",
              "      --disabled-bg-color: #DDD;\n",
              "  }\n",
              "\n",
              "  [theme=dark] .colab-df-quickchart {\n",
              "      --bg-color: #3B4455;\n",
              "      --fill-color: #D2E3FC;\n",
              "      --hover-bg-color: #434B5C;\n",
              "      --hover-fill-color: #FFFFFF;\n",
              "      --disabled-bg-color: #3B4455;\n",
              "      --disabled-fill-color: #666;\n",
              "  }\n",
              "\n",
              "  .colab-df-quickchart {\n",
              "    background-color: var(--bg-color);\n",
              "    border: none;\n",
              "    border-radius: 50%;\n",
              "    cursor: pointer;\n",
              "    display: none;\n",
              "    fill: var(--fill-color);\n",
              "    height: 32px;\n",
              "    padding: 0;\n",
              "    width: 32px;\n",
              "  }\n",
              "\n",
              "  .colab-df-quickchart:hover {\n",
              "    background-color: var(--hover-bg-color);\n",
              "    box-shadow: 0 1px 2px rgba(60, 64, 67, 0.3), 0 1px 3px 1px rgba(60, 64, 67, 0.15);\n",
              "    fill: var(--button-hover-fill-color);\n",
              "  }\n",
              "\n",
              "  .colab-df-quickchart-complete:disabled,\n",
              "  .colab-df-quickchart-complete:disabled:hover {\n",
              "    background-color: var(--disabled-bg-color);\n",
              "    fill: var(--disabled-fill-color);\n",
              "    box-shadow: none;\n",
              "  }\n",
              "\n",
              "  .colab-df-spinner {\n",
              "    border: 2px solid var(--fill-color);\n",
              "    border-color: transparent;\n",
              "    border-bottom-color: var(--fill-color);\n",
              "    animation:\n",
              "      spin 1s steps(1) infinite;\n",
              "  }\n",
              "\n",
              "  @keyframes spin {\n",
              "    0% {\n",
              "      border-color: transparent;\n",
              "      border-bottom-color: var(--fill-color);\n",
              "      border-left-color: var(--fill-color);\n",
              "    }\n",
              "    20% {\n",
              "      border-color: transparent;\n",
              "      border-left-color: var(--fill-color);\n",
              "      border-top-color: var(--fill-color);\n",
              "    }\n",
              "    30% {\n",
              "      border-color: transparent;\n",
              "      border-left-color: var(--fill-color);\n",
              "      border-top-color: var(--fill-color);\n",
              "      border-right-color: var(--fill-color);\n",
              "    }\n",
              "    40% {\n",
              "      border-color: transparent;\n",
              "      border-right-color: var(--fill-color);\n",
              "      border-top-color: var(--fill-color);\n",
              "    }\n",
              "    60% {\n",
              "      border-color: transparent;\n",
              "      border-right-color: var(--fill-color);\n",
              "    }\n",
              "    80% {\n",
              "      border-color: transparent;\n",
              "      border-right-color: var(--fill-color);\n",
              "      border-bottom-color: var(--fill-color);\n",
              "    }\n",
              "    90% {\n",
              "      border-color: transparent;\n",
              "      border-bottom-color: var(--fill-color);\n",
              "    }\n",
              "  }\n",
              "</style>\n",
              "\n",
              "      <script>\n",
              "        async function quickchart(key) {\n",
              "          const quickchartButtonEl =\n",
              "            document.querySelector('#' + key + ' button');\n",
              "          quickchartButtonEl.disabled = true;  // To prevent multiple clicks.\n",
              "          quickchartButtonEl.classList.add('colab-df-spinner');\n",
              "          try {\n",
              "            const charts = await google.colab.kernel.invokeFunction(\n",
              "                'suggestCharts', [key], {});\n",
              "          } catch (error) {\n",
              "            console.error('Error during call to suggestCharts:', error);\n",
              "          }\n",
              "          quickchartButtonEl.classList.remove('colab-df-spinner');\n",
              "          quickchartButtonEl.classList.add('colab-df-quickchart-complete');\n",
              "        }\n",
              "        (() => {\n",
              "          let quickchartButtonEl =\n",
              "            document.querySelector('#df-e026e8d3-2233-44a3-9cd0-87f4279121b4 button');\n",
              "          quickchartButtonEl.style.display =\n",
              "            google.colab.kernel.accessAllowed ? 'block' : 'none';\n",
              "        })();\n",
              "      </script>\n",
              "    </div>\n",
              "\n",
              "    </div>\n",
              "  </div>\n"
            ],
            "application/vnd.google.colaboratory.intrinsic+json": {
              "type": "dataframe",
              "summary": "{\n  \"name\": \"test_df\",\n  \"rows\": 5,\n  \"fields\": [\n    {\n      \"column\": \"image_path\",\n      \"properties\": {\n        \"dtype\": \"string\",\n        \"num_unique_values\": 5,\n        \"samples\": [\n          \"/content/vggface2/val/n000394/0041_01.jpg\",\n          \"/content/vggface2/train/n000236/0460_01.jpg\",\n          \"/content/vggface2/train/n000102/0321_01.jpg\"\n        ],\n        \"semantic_type\": \"\",\n        \"description\": \"\"\n      }\n    },\n    {\n      \"column\": \"label\",\n      \"properties\": {\n        \"dtype\": \"string\",\n        \"num_unique_values\": 5,\n        \"samples\": [\n          \"n000394\",\n          \"n000236\",\n          \"n000102\"\n        ],\n        \"semantic_type\": \"\",\n        \"description\": \"\"\n      }\n    },\n    {\n      \"column\": \"label_\",\n      \"properties\": {\n        \"dtype\": \"number\",\n        \"std\": 157,\n        \"min\": 101,\n        \"max\": 491,\n        \"num_unique_values\": 5,\n        \"samples\": [\n          390,\n          232,\n          101\n        ],\n        \"semantic_type\": \"\",\n        \"description\": \"\"\n      }\n    }\n  ]\n}"
            }
          },
          "metadata": {},
          "execution_count": 13
        }
      ],
      "source": [
        "test_df.sample(5)"
      ]
    },
    {
      "cell_type": "code",
      "execution_count": 14,
      "id": "626da391",
      "metadata": {
        "execution": {
          "iopub.execute_input": "2025-08-03T12:49:51.561865Z",
          "iopub.status.busy": "2025-08-03T12:49:51.561370Z",
          "iopub.status.idle": "2025-08-03T12:49:51.565679Z",
          "shell.execute_reply": "2025-08-03T12:49:51.565043Z"
        },
        "id": "626da391",
        "outputId": "8199aa4a-1d02-44bb-d5c6-9cf1259f8a73",
        "papermill": {
          "duration": 0.0118,
          "end_time": "2025-08-03T12:49:51.566683",
          "exception": false,
          "start_time": "2025-08-03T12:49:51.554883",
          "status": "completed"
        },
        "tags": [],
        "colab": {
          "base_uri": "https://localhost:8080/"
        }
      },
      "outputs": [
        {
          "output_type": "execute_result",
          "data": {
            "text/plain": [
              "(173969, 14234, 9490)"
            ]
          },
          "metadata": {},
          "execution_count": 14
        }
      ],
      "source": [
        "len(train_df), len(val_df), len(test_df)"
      ]
    },
    {
      "cell_type": "code",
      "execution_count": 15,
      "id": "73e05273",
      "metadata": {
        "execution": {
          "iopub.execute_input": "2025-08-03T12:49:51.579851Z",
          "iopub.status.busy": "2025-08-03T12:49:51.579454Z",
          "iopub.status.idle": "2025-08-03T12:49:51.975227Z",
          "shell.execute_reply": "2025-08-03T12:49:51.974484Z"
        },
        "id": "73e05273",
        "outputId": "aa6e8047-6d97-48c5-f1c8-a7b355912131",
        "papermill": {
          "duration": 0.403609,
          "end_time": "2025-08-03T12:49:51.976450",
          "exception": false,
          "start_time": "2025-08-03T12:49:51.572841",
          "status": "completed"
        },
        "tags": [],
        "colab": {
          "base_uri": "https://localhost:8080/",
          "height": 447
        }
      },
      "outputs": [
        {
          "output_type": "execute_result",
          "data": {
            "text/plain": [
              "<Axes: ylabel='Frequency'>"
            ]
          },
          "metadata": {},
          "execution_count": 15
        },
        {
          "output_type": "display_data",
          "data": {
            "text/plain": [
              "<Figure size 640x480 with 1 Axes>"
            ],
            "image/png": "[encoded data removed]"
          },
          "metadata": {}
        }
      ],
      "source": [
        "train_df.plot(kind='hist')"
      ]
    },
    {
      "cell_type": "code",
      "execution_count": 16,
      "id": "2ec8bef4",
      "metadata": {
        "execution": {
          "iopub.execute_input": "2025-08-03T12:49:52.037680Z",
          "iopub.status.busy": "2025-08-03T12:49:52.037013Z",
          "iopub.status.idle": "2025-08-03T12:49:52.042793Z",
          "shell.execute_reply": "2025-08-03T12:49:52.042079Z"
        },
        "id": "2ec8bef4",
        "papermill": {
          "duration": 0.059331,
          "end_time": "2025-08-03T12:49:52.044011",
          "exception": false,
          "start_time": "2025-08-03T12:49:51.984680",
          "status": "completed"
        },
        "tags": [],
        "colab": {
          "base_uri": "https://localhost:8080/"
        },
        "outputId": "8a2ff520-bbda-429d-85dc-3408600c5e41"
      },
      "outputs": [
        {
          "output_type": "stream",
          "name": "stdout",
          "text": [
            "image_path    /content/vggface2/train/n000081/0074_02.jpg\n",
            "label                                             n000081\n",
            "label_                                                 80\n",
            "Name: 45162, dtype: object\n"
          ]
        }
      ],
      "source": [
        "path_sample = val_df.sample(1).iloc[0]\n",
        "print(path_sample)"
      ]
    },
    {
      "cell_type": "code",
      "execution_count": 17,
      "id": "29018cdd",
      "metadata": {
        "execution": {
          "iopub.execute_input": "2025-08-03T12:49:52.058085Z",
          "iopub.status.busy": "2025-08-03T12:49:52.057854Z",
          "iopub.status.idle": "2025-08-03T12:49:52.309692Z",
          "shell.execute_reply": "2025-08-03T12:49:52.308964Z"
        },
        "id": "29018cdd",
        "outputId": "42ead66f-bf1d-4013-b677-afd2c12babf8",
        "papermill": {
          "duration": 0.262969,
          "end_time": "2025-08-03T12:49:52.313779",
          "exception": false,
          "start_time": "2025-08-03T12:49:52.050810",
          "status": "completed"
        },
        "tags": [],
        "colab": {
          "base_uri": "https://localhost:8080/",
          "height": 452
        }
      },
      "outputs": [
        {
          "output_type": "display_data",
          "data": {
            "text/plain": [
              "<Figure size 640x480 with 1 Axes>"
            ],
            "image/png": "[encoded data removed]"
          },
          "metadata": {}
        }
      ],
      "source": [
        "image = cv2.imread(path_sample['image_path'])\n",
        "image_rgb = cv2.cvtColor(image, cv2.COLOR_BGR2RGB)\n",
        "plt.title(f\"{path_sample['label']} -- {path_sample['label_']}\")\n",
        "plt.imshow(image_rgb)\n",
        "plt.show()"
      ]
    },
    {
      "cell_type": "code",
      "execution_count": 18,
      "id": "ab35d83d",
      "metadata": {
        "execution": {
          "iopub.execute_input": "2025-08-03T12:49:52.336302Z",
          "iopub.status.busy": "2025-08-03T12:49:52.335820Z",
          "iopub.status.idle": "2025-08-03T12:50:03.418453Z",
          "shell.execute_reply": "2025-08-03T12:50:03.417619Z"
        },
        "id": "ab35d83d",
        "papermill": {
          "duration": 11.09497,
          "end_time": "2025-08-03T12:50:03.419895",
          "exception": false,
          "start_time": "2025-08-03T12:49:52.324925",
          "status": "completed"
        },
        "tags": []
      },
      "outputs": [],
      "source": [
        "import torch\n",
        "import torch.nn as nn\n",
        "from torch.optim import Adam\n",
        "from torch.utils.data import Dataset, DataLoader\n",
        "from torch.nn import CrossEntropyLoss\n",
        "from torchvision.transforms import transforms\n",
        "from torch.optim.lr_scheduler import ReduceLROnPlateau\n",
        "import torch.nn.functional as F\n",
        "from PIL import Image\n",
        "from tqdm import tqdm\n",
        "import datetime as dt\n",
        "from sklearn.metrics import accuracy_score\n",
        "import kagglehub\n",
        "\n",
        "device = 'cuda' if torch.cuda.is_available() else 'cpu'"
      ]
    },
    {
      "cell_type": "code",
      "execution_count": 19,
      "id": "512c01d6",
      "metadata": {
        "execution": {
          "iopub.execute_input": "2025-08-03T12:50:03.442270Z",
          "iopub.status.busy": "2025-08-03T12:50:03.441846Z",
          "iopub.status.idle": "2025-08-03T12:50:03.445730Z",
          "shell.execute_reply": "2025-08-03T12:50:03.445067Z"
        },
        "id": "512c01d6",
        "papermill": {
          "duration": 0.015969,
          "end_time": "2025-08-03T12:50:03.446777",
          "exception": false,
          "start_time": "2025-08-03T12:50:03.430808",
          "status": "completed"
        },
        "tags": []
      },
      "outputs": [],
      "source": [
        "def resize_image(image, dsize=(224, 224)):\n",
        "    resized_image = cv2.resize(image, dsize=dsize, interpolation=cv2.INTER_LANCZOS4)\n",
        "    return resized_image"
      ]
    },
    {
      "cell_type": "code",
      "execution_count": 20,
      "id": "f22c8e15",
      "metadata": {
        "execution": {
          "iopub.execute_input": "2025-08-03T12:50:03.468058Z",
          "iopub.status.busy": "2025-08-03T12:50:03.467571Z",
          "iopub.status.idle": "2025-08-03T12:50:03.471629Z",
          "shell.execute_reply": "2025-08-03T12:50:03.471073Z"
        },
        "id": "f22c8e15",
        "papermill": {
          "duration": 0.015778,
          "end_time": "2025-08-03T12:50:03.472709",
          "exception": false,
          "start_time": "2025-08-03T12:50:03.456931",
          "status": "completed"
        },
        "tags": []
      },
      "outputs": [],
      "source": [
        "transformer = transforms.Compose([\n",
        "    transforms.ToTensor(),\n",
        "    transforms.ConvertImageDtype(torch.float)\n",
        "])\n",
        "\n",
        "transform_augmented = transforms.Compose([\n",
        "    transforms.ToPILImage(),\n",
        "    transforms.RandomHorizontalFlip(),\n",
        "    transforms.RandomRotation(10),\n",
        "    transforms.ToTensor(),\n",
        "    transforms.ConvertImageDtype(torch.float)\n",
        "])"
      ]
    },
    {
      "cell_type": "code",
      "execution_count": 21,
      "id": "d4fa9fc1",
      "metadata": {
        "execution": {
          "iopub.execute_input": "2025-08-03T12:50:03.493756Z",
          "iopub.status.busy": "2025-08-03T12:50:03.493336Z",
          "iopub.status.idle": "2025-08-03T12:50:03.498379Z",
          "shell.execute_reply": "2025-08-03T12:50:03.497830Z"
        },
        "id": "d4fa9fc1",
        "papermill": {
          "duration": 0.01656,
          "end_time": "2025-08-03T12:50:03.499359",
          "exception": false,
          "start_time": "2025-08-03T12:50:03.482799",
          "status": "completed"
        },
        "tags": []
      },
      "outputs": [],
      "source": [
        "class customDatasets(Dataset):\n",
        "  def __init__(self, dataframe, transform=None):\n",
        "     super().__init__()\n",
        "     self.dataframe = dataframe\n",
        "     self.transform = transform\n",
        "\n",
        "  def __len__(self):\n",
        "    return len(self.dataframe)\n",
        "\n",
        "  def __getitem__(self, index):\n",
        "    image_path = self.dataframe.iloc[index, 0]\n",
        "    image = cv2.imread(image_path)\n",
        "\n",
        "    if image is None:\n",
        "        raise ValueError(f\"Image not found or unreadable at path: {image_path}\")\n",
        "\n",
        "    image = cv2.cvtColor(image, cv2.COLOR_BGR2RGB)  # Convert BGR to RGB\n",
        "    image_resized = resize_image(image)\n",
        "\n",
        "    label = torch.tensor(int(self.dataframe.iloc[index, 2]), dtype=torch.long)\n",
        "\n",
        "    if self.transform:\n",
        "        image_resized = self.transform(image_resized)\n",
        "\n",
        "    return image_resized, label\n"
      ]
    },
    {
      "cell_type": "code",
      "execution_count": 22,
      "id": "989871c3",
      "metadata": {
        "execution": {
          "iopub.execute_input": "2025-08-03T12:50:03.520074Z",
          "iopub.status.busy": "2025-08-03T12:50:03.519875Z",
          "iopub.status.idle": "2025-08-03T12:50:03.523350Z",
          "shell.execute_reply": "2025-08-03T12:50:03.522710Z"
        },
        "id": "989871c3",
        "papermill": {
          "duration": 0.015003,
          "end_time": "2025-08-03T12:50:03.524324",
          "exception": false,
          "start_time": "2025-08-03T12:50:03.509321",
          "status": "completed"
        },
        "tags": []
      },
      "outputs": [],
      "source": [
        "train_dataset = customDatasets(train_df, transform=transformer)\n",
        "test_dataset = customDatasets(test_df, transform=transformer)\n",
        "val_dataset = customDatasets(val_df, transform=transformer)"
      ]
    },
    {
      "cell_type": "code",
      "execution_count": 23,
      "id": "00e89202",
      "metadata": {
        "execution": {
          "iopub.execute_input": "2025-08-03T12:50:03.545016Z",
          "iopub.status.busy": "2025-08-03T12:50:03.544839Z",
          "iopub.status.idle": "2025-08-03T12:50:03.547865Z",
          "shell.execute_reply": "2025-08-03T12:50:03.547365Z"
        },
        "papermill": {
          "duration": 0.014417,
          "end_time": "2025-08-03T12:50:03.548810",
          "exception": false,
          "start_time": "2025-08-03T12:50:03.534393",
          "status": "completed"
        },
        "tags": [],
        "id": "00e89202"
      },
      "outputs": [],
      "source": [
        "BATCH_SIZE = 128"
      ]
    },
    {
      "cell_type": "code",
      "execution_count": 24,
      "id": "42cf77b6",
      "metadata": {
        "execution": {
          "iopub.execute_input": "2025-08-03T12:50:03.569377Z",
          "iopub.status.busy": "2025-08-03T12:50:03.569190Z",
          "iopub.status.idle": "2025-08-03T12:50:03.573110Z",
          "shell.execute_reply": "2025-08-03T12:50:03.572402Z"
        },
        "id": "42cf77b6",
        "papermill": {
          "duration": 0.015384,
          "end_time": "2025-08-03T12:50:03.574157",
          "exception": false,
          "start_time": "2025-08-03T12:50:03.558773",
          "status": "completed"
        },
        "tags": []
      },
      "outputs": [],
      "source": [
        "train_dataloader = DataLoader(train_dataset, batch_size=BATCH_SIZE, shuffle=True)\n",
        "test_dataloader = DataLoader(test_dataset, batch_size=BATCH_SIZE, shuffle=True)\n",
        "val_dataloader = DataLoader(val_dataset, batch_size=BATCH_SIZE, shuffle=True)"
      ]
    },
    {
      "cell_type": "code",
      "execution_count": 25,
      "id": "011fd9fc",
      "metadata": {
        "execution": {
          "iopub.execute_input": "2025-08-03T12:50:03.594950Z",
          "iopub.status.busy": "2025-08-03T12:50:03.594746Z",
          "iopub.status.idle": "2025-08-03T12:50:05.214160Z",
          "shell.execute_reply": "2025-08-03T12:50:05.213454Z"
        },
        "id": "011fd9fc",
        "outputId": "7c9f7acd-409e-426c-d207-408bced9b45b",
        "papermill": {
          "duration": 1.6339,
          "end_time": "2025-08-03T12:50:05.218178",
          "exception": false,
          "start_time": "2025-08-03T12:50:03.584278",
          "status": "completed"
        },
        "tags": [],
        "colab": {
          "base_uri": "https://localhost:8080/",
          "height": 469
        }
      },
      "outputs": [
        {
          "output_type": "stream",
          "name": "stdout",
          "text": [
            "(224, 224, 3)\n"
          ]
        },
        {
          "output_type": "display_data",
          "data": {
            "text/plain": [
              "<Figure size 640x480 with 1 Axes>"
            ],
            "image/png": "[encoded data removed]"
          },
          "metadata": {}
        }
      ],
      "source": [
        "images, labels = next(iter(train_dataloader))\n",
        "images = images.cpu().numpy()\n",
        "labels = labels.cpu().numpy()\n",
        "\n",
        "for i in range(len(images)):\n",
        "    image = images[i].transpose(1, 2, 0)  # Convert (C, H, W) → (H, W, C)\n",
        "\n",
        "    print(image.shape)\n",
        "    plt.imshow(image, cmap='gray')\n",
        "    plt.title(labels[i])\n",
        "    plt.show()\n",
        "    break"
      ]
    },
    {
      "cell_type": "code",
      "execution_count": 26,
      "id": "47c2728b",
      "metadata": {
        "execution": {
          "iopub.execute_input": "2025-08-03T12:50:05.248768Z",
          "iopub.status.busy": "2025-08-03T12:50:05.248524Z",
          "iopub.status.idle": "2025-08-03T12:50:05.257382Z",
          "shell.execute_reply": "2025-08-03T12:50:05.256676Z"
        },
        "id": "47c2728b",
        "papermill": {
          "duration": 0.025361,
          "end_time": "2025-08-03T12:50:05.258515",
          "exception": false,
          "start_time": "2025-08-03T12:50:05.233154",
          "status": "completed"
        },
        "tags": []
      },
      "outputs": [],
      "source": [
        "class DepthwiseSeparableConv(nn.Module):\n",
        "    def __init__(self, in_channels, out_channels, kernel_size=3, padding=1):\n",
        "        super().__init__()\n",
        "        self.depthwise = nn.Conv2d(in_channels, in_channels, kernel_size, padding=padding, groups=in_channels, bias=False)\n",
        "        self.pointwise = nn.Conv2d(in_channels, out_channels, kernel_size=1, bias=False)\n",
        "        self.bn = nn.BatchNorm2d(out_channels)\n",
        "        self.relu = nn.ReLU(inplace=True)\n",
        "\n",
        "    def forward(self, x):\n",
        "        return self.relu(self.bn(self.pointwise(self.depthwise(x))))\n",
        "\n",
        "class ResidualBlock(nn.Module):\n",
        "    def __init__(self, channels):\n",
        "        super().__init__()\n",
        "        self.conv1 = DepthwiseSeparableConv(channels, channels)\n",
        "        self.conv2 = DepthwiseSeparableConv(channels, channels)\n",
        "\n",
        "    def forward(self, x):\n",
        "        return x + self.conv2(self.conv1(x))\n",
        "\n",
        "class EfficientFRBackbone(nn.Module):\n",
        "    def __init__(self, embedding_dim=512):\n",
        "        super().__init__()\n",
        "\n",
        "        self.stem = nn.Sequential(\n",
        "            nn.Conv2d(3, 32, kernel_size=3, stride=2, padding=1, bias=False),  # Downsample\n",
        "            nn.BatchNorm2d(32),\n",
        "            nn.ReLU(inplace=True)\n",
        "        )\n",
        "\n",
        "        self.stage1 = nn.Sequential(\n",
        "            DepthwiseSeparableConv(32, 64),\n",
        "            ResidualBlock(64),\n",
        "            nn.MaxPool2d(2)\n",
        "        )\n",
        "\n",
        "        self.stage2 = nn.Sequential(\n",
        "            DepthwiseSeparableConv(64, 128),\n",
        "            ResidualBlock(128),\n",
        "            nn.MaxPool2d(2)\n",
        "        )\n",
        "\n",
        "        self.stage3 = nn.Sequential(\n",
        "            DepthwiseSeparableConv(128, 256),\n",
        "            ResidualBlock(256),\n",
        "            nn.MaxPool2d(2)\n",
        "        )\n",
        "\n",
        "        self.stage4 = nn.Sequential(\n",
        "            DepthwiseSeparableConv(256, 512),\n",
        "            ResidualBlock(512),\n",
        "            nn.AdaptiveAvgPool2d((1, 1))  # Global pooling\n",
        "        )\n",
        "\n",
        "        self.embedding = nn.Sequential(\n",
        "            nn.Flatten(),\n",
        "            nn.Linear(512, embedding_dim),\n",
        "            nn.BatchNorm1d(embedding_dim)\n",
        "        )\n",
        "\n",
        "    def forward(self, x):\n",
        "        x = self.stem(x)\n",
        "        x = self.stage1(x)\n",
        "        x = self.stage2(x)\n",
        "        x = self.stage3(x)\n",
        "        x = self.stage4(x)\n",
        "        x = self.embedding(x)\n",
        "        return x"
      ]
    },
    {
      "cell_type": "code",
      "execution_count": 27,
      "id": "0607d3b9",
      "metadata": {
        "execution": {
          "iopub.execute_input": "2025-08-03T12:50:05.286332Z",
          "iopub.status.busy": "2025-08-03T12:50:05.286125Z",
          "iopub.status.idle": "2025-08-03T12:50:05.291287Z",
          "shell.execute_reply": "2025-08-03T12:50:05.290707Z"
        },
        "id": "0607d3b9",
        "papermill": {
          "duration": 0.020296,
          "end_time": "2025-08-03T12:50:05.292286",
          "exception": false,
          "start_time": "2025-08-03T12:50:05.271990",
          "status": "completed"
        },
        "tags": []
      },
      "outputs": [],
      "source": [
        "class ArcFace(nn.Module):\n",
        "    def __init__(self, in_features, num_classes, s=30.0, m=0.5):\n",
        "        super().__init__()\n",
        "        self.s = s\n",
        "        self.m = m\n",
        "        self.weight = nn.Parameter(torch.randn(num_classes, in_features))\n",
        "        nn.init.xavier_uniform_(self.weight)\n",
        "\n",
        "    def forward(self, embeddings, labels):\n",
        "        embeddings = F.normalize(embeddings)\n",
        "        W = F.normalize(self.weight)\n",
        "\n",
        "        # Cosine similarity\n",
        "        cos_theta = torch.matmul(embeddings, W.t()).clamp(-1, 1)\n",
        "\n",
        "        # Apply angular margin\n",
        "        theta = torch.acos(cos_theta)\n",
        "        cos_theta_m = torch.cos(theta + self.m)\n",
        "\n",
        "        # One-hot encoding\n",
        "        one_hot = F.one_hot(labels, num_classes=num_classes).float()\n",
        "\n",
        "        # Apply margin to correct class\n",
        "        logits = self.s * (one_hot * cos_theta_m + (1 - one_hot) * cos_theta)\n",
        "        return logits"
      ]
    },
    {
      "cell_type": "code",
      "execution_count": 28,
      "id": "3c34b851",
      "metadata": {
        "execution": {
          "iopub.execute_input": "2025-08-03T12:50:05.320221Z",
          "iopub.status.busy": "2025-08-03T12:50:05.319695Z",
          "iopub.status.idle": "2025-08-03T12:50:05.324049Z",
          "shell.execute_reply": "2025-08-03T12:50:05.323506Z"
        },
        "papermill": {
          "duration": 0.019256,
          "end_time": "2025-08-03T12:50:05.325020",
          "exception": false,
          "start_time": "2025-08-03T12:50:05.305764",
          "status": "completed"
        },
        "tags": [],
        "id": "3c34b851"
      },
      "outputs": [],
      "source": [
        "class FaceNet(nn.Module):\n",
        "    def __init__(self, num_classes, embedding_dim=512):\n",
        "        super().__init__()\n",
        "        self.backbone = EfficientFRBackbone(embedding_dim)\n",
        "        self.arcface = ArcFace(embedding_dim, num_classes)\n",
        "\n",
        "    def forward(self, x, labels=None):\n",
        "        embeddings = self.backbone(x)\n",
        "        if labels is not None:\n",
        "            return self.arcface(embeddings, labels)\n",
        "        return embeddings"
      ]
    },
    {
      "cell_type": "code",
      "execution_count": 29,
      "id": "3fea3827",
      "metadata": {
        "execution": {
          "iopub.execute_input": "2025-08-03T12:50:05.353233Z",
          "iopub.status.busy": "2025-08-03T12:50:05.352603Z",
          "iopub.status.idle": "2025-08-03T12:50:05.364692Z",
          "shell.execute_reply": "2025-08-03T12:50:05.364093Z"
        },
        "papermill": {
          "duration": 0.027012,
          "end_time": "2025-08-03T12:50:05.365768",
          "exception": false,
          "start_time": "2025-08-03T12:50:05.338756",
          "status": "completed"
        },
        "tags": [],
        "colab": {
          "base_uri": "https://localhost:8080/"
        },
        "id": "3fea3827",
        "outputId": "02b4a8dc-7174-4dea-e369-26dd542098eb"
      },
      "outputs": [
        {
          "output_type": "stream",
          "name": "stdout",
          "text": [
            "540 540 540\n"
          ]
        }
      ],
      "source": [
        "num_classes = len(train_df['label'].unique())\n",
        "num_class2 = len(val_df['label'].unique())\n",
        "num_class3 = len(test_df['label'].unique())\n",
        "print(num_classes, num_class2, num_class3)"
      ]
    },
    {
      "cell_type": "code",
      "execution_count": 30,
      "id": "8aa9d5dc",
      "metadata": {
        "execution": {
          "iopub.execute_input": "2025-08-03T12:50:05.397346Z",
          "iopub.status.busy": "2025-08-03T12:50:05.397160Z",
          "iopub.status.idle": "2025-08-03T12:50:05.459300Z",
          "shell.execute_reply": "2025-08-03T12:50:05.458234Z"
        },
        "papermill": {
          "duration": 0.079537,
          "end_time": "2025-08-03T12:50:05.460867",
          "exception": false,
          "start_time": "2025-08-03T12:50:05.381330",
          "status": "completed"
        },
        "tags": [],
        "colab": {
          "base_uri": "https://localhost:8080/"
        },
        "id": "8aa9d5dc",
        "outputId": "fde17d77-51c9-4b72-f39c-7ab07f68dbe8"
      },
      "outputs": [
        {
          "output_type": "stream",
          "name": "stdout",
          "text": [
            "Overlapping files: 0\n"
          ]
        }
      ],
      "source": [
        "train_files = set(train_df['image_path'])\n",
        "val_files = set(val_df['image_path'])\n",
        "print(f\"Overlapping files: {len(train_files & val_files)}\")"
      ]
    },
    {
      "cell_type": "code",
      "execution_count": null,
      "id": "33b3cd38",
      "metadata": {
        "execution": {
          "iopub.execute_input": "2025-08-03T12:50:05.499545Z",
          "iopub.status.busy": "2025-08-03T12:50:05.498745Z",
          "iopub.status.idle": "2025-08-03T12:50:05.502182Z",
          "shell.execute_reply": "2025-08-03T12:50:05.501620Z"
        },
        "id": "33b3cd38",
        "papermill": {
          "duration": 0.020604,
          "end_time": "2025-08-03T12:50:05.503320",
          "exception": false,
          "start_time": "2025-08-03T12:50:05.482716",
          "status": "completed"
        },
        "tags": []
      },
      "outputs": [],
      "source": [
        "# device = torch.device(\"cuda\" if torch.cuda.is_available() else \"cpu\")\n",
        "# model = FaceNet(num_classes=num_classes, embedding_dim=512).to(device)\n",
        "# print(f\"Model initialized on {device}\")"
      ]
    },
    {
      "cell_type": "code",
      "execution_count": 31,
      "id": "dff42df1",
      "metadata": {
        "execution": {
          "iopub.execute_input": "2025-08-03T12:50:05.533487Z",
          "iopub.status.busy": "2025-08-03T12:50:05.533287Z",
          "iopub.status.idle": "2025-08-03T12:50:05.859782Z",
          "shell.execute_reply": "2025-08-03T12:50:05.859077Z"
        },
        "papermill": {
          "duration": 0.342441,
          "end_time": "2025-08-03T12:50:05.860876",
          "exception": false,
          "start_time": "2025-08-03T12:50:05.518435",
          "status": "completed"
        },
        "tags": [],
        "colab": {
          "base_uri": "https://localhost:8080/"
        },
        "id": "dff42df1",
        "outputId": "d35dbefb-4de9-40db-86cb-8237dcb9fb3b"
      },
      "outputs": [
        {
          "output_type": "stream",
          "name": "stdout",
          "text": [
            "Model initialized on cuda\n"
          ]
        }
      ],
      "source": [
        "model = FaceNet(num_classes=num_classes, embedding_dim=512).to(device)\n",
        "state_dict = torch.load(\"/content/arcface_model_final_23.pth\")\n",
        "model.load_state_dict(state_dict)\n",
        "print(f\"Model initialized on {device}\")"
      ]
    },
    {
      "cell_type": "code",
      "execution_count": 32,
      "id": "103de2d7",
      "metadata": {
        "execution": {
          "iopub.execute_input": "2025-08-03T12:50:05.889756Z",
          "iopub.status.busy": "2025-08-03T12:50:05.889261Z",
          "iopub.status.idle": "2025-08-03T12:50:06.682754Z",
          "shell.execute_reply": "2025-08-03T12:50:06.681922Z"
        },
        "id": "103de2d7",
        "outputId": "f424bea6-d3a3-491d-fe3f-ce4a747134b9",
        "papermill": {
          "duration": 0.809137,
          "end_time": "2025-08-03T12:50:06.684177",
          "exception": false,
          "start_time": "2025-08-03T12:50:05.875040",
          "status": "completed"
        },
        "tags": [],
        "colab": {
          "base_uri": "https://localhost:8080/"
        }
      },
      "outputs": [
        {
          "output_type": "stream",
          "name": "stdout",
          "text": [
            "----------------------------------------------------------------\n",
            "        Layer (type)               Output Shape         Param #\n",
            "================================================================\n",
            "            Conv2d-1         [-1, 32, 112, 112]             864\n",
            "       BatchNorm2d-2         [-1, 32, 112, 112]              64\n",
            "              ReLU-3         [-1, 32, 112, 112]               0\n",
            "            Conv2d-4         [-1, 32, 112, 112]             288\n",
            "            Conv2d-5         [-1, 64, 112, 112]           2,048\n",
            "       BatchNorm2d-6         [-1, 64, 112, 112]             128\n",
            "              ReLU-7         [-1, 64, 112, 112]               0\n",
            "DepthwiseSeparableConv-8         [-1, 64, 112, 112]               0\n",
            "            Conv2d-9         [-1, 64, 112, 112]             576\n",
            "           Conv2d-10         [-1, 64, 112, 112]           4,096\n",
            "      BatchNorm2d-11         [-1, 64, 112, 112]             128\n",
            "             ReLU-12         [-1, 64, 112, 112]               0\n",
            "DepthwiseSeparableConv-13         [-1, 64, 112, 112]               0\n",
            "           Conv2d-14         [-1, 64, 112, 112]             576\n",
            "           Conv2d-15         [-1, 64, 112, 112]           4,096\n",
            "      BatchNorm2d-16         [-1, 64, 112, 112]             128\n",
            "             ReLU-17         [-1, 64, 112, 112]               0\n",
            "DepthwiseSeparableConv-18         [-1, 64, 112, 112]               0\n",
            "    ResidualBlock-19         [-1, 64, 112, 112]               0\n",
            "        MaxPool2d-20           [-1, 64, 56, 56]               0\n",
            "           Conv2d-21           [-1, 64, 56, 56]             576\n",
            "           Conv2d-22          [-1, 128, 56, 56]           8,192\n",
            "      BatchNorm2d-23          [-1, 128, 56, 56]             256\n",
            "             ReLU-24          [-1, 128, 56, 56]               0\n",
            "DepthwiseSeparableConv-25          [-1, 128, 56, 56]               0\n",
            "           Conv2d-26          [-1, 128, 56, 56]           1,152\n",
            "           Conv2d-27          [-1, 128, 56, 56]          16,384\n",
            "      BatchNorm2d-28          [-1, 128, 56, 56]             256\n",
            "             ReLU-29          [-1, 128, 56, 56]               0\n",
            "DepthwiseSeparableConv-30          [-1, 128, 56, 56]               0\n",
            "           Conv2d-31          [-1, 128, 56, 56]           1,152\n",
            "           Conv2d-32          [-1, 128, 56, 56]          16,384\n",
            "      BatchNorm2d-33          [-1, 128, 56, 56]             256\n",
            "             ReLU-34          [-1, 128, 56, 56]               0\n",
            "DepthwiseSeparableConv-35          [-1, 128, 56, 56]               0\n",
            "    ResidualBlock-36          [-1, 128, 56, 56]               0\n",
            "        MaxPool2d-37          [-1, 128, 28, 28]               0\n",
            "           Conv2d-38          [-1, 128, 28, 28]           1,152\n",
            "           Conv2d-39          [-1, 256, 28, 28]          32,768\n",
            "      BatchNorm2d-40          [-1, 256, 28, 28]             512\n",
            "             ReLU-41          [-1, 256, 28, 28]               0\n",
            "DepthwiseSeparableConv-42          [-1, 256, 28, 28]               0\n",
            "           Conv2d-43          [-1, 256, 28, 28]           2,304\n",
            "           Conv2d-44          [-1, 256, 28, 28]          65,536\n",
            "      BatchNorm2d-45          [-1, 256, 28, 28]             512\n",
            "             ReLU-46          [-1, 256, 28, 28]               0\n",
            "DepthwiseSeparableConv-47          [-1, 256, 28, 28]               0\n",
            "           Conv2d-48          [-1, 256, 28, 28]           2,304\n",
            "           Conv2d-49          [-1, 256, 28, 28]          65,536\n",
            "      BatchNorm2d-50          [-1, 256, 28, 28]             512\n",
            "             ReLU-51          [-1, 256, 28, 28]               0\n",
            "DepthwiseSeparableConv-52          [-1, 256, 28, 28]               0\n",
            "    ResidualBlock-53          [-1, 256, 28, 28]               0\n",
            "        MaxPool2d-54          [-1, 256, 14, 14]               0\n",
            "           Conv2d-55          [-1, 256, 14, 14]           2,304\n",
            "           Conv2d-56          [-1, 512, 14, 14]         131,072\n",
            "      BatchNorm2d-57          [-1, 512, 14, 14]           1,024\n",
            "             ReLU-58          [-1, 512, 14, 14]               0\n",
            "DepthwiseSeparableConv-59          [-1, 512, 14, 14]               0\n",
            "           Conv2d-60          [-1, 512, 14, 14]           4,608\n",
            "           Conv2d-61          [-1, 512, 14, 14]         262,144\n",
            "      BatchNorm2d-62          [-1, 512, 14, 14]           1,024\n",
            "             ReLU-63          [-1, 512, 14, 14]               0\n",
            "DepthwiseSeparableConv-64          [-1, 512, 14, 14]               0\n",
            "           Conv2d-65          [-1, 512, 14, 14]           4,608\n",
            "           Conv2d-66          [-1, 512, 14, 14]         262,144\n",
            "      BatchNorm2d-67          [-1, 512, 14, 14]           1,024\n",
            "             ReLU-68          [-1, 512, 14, 14]               0\n",
            "DepthwiseSeparableConv-69          [-1, 512, 14, 14]               0\n",
            "    ResidualBlock-70          [-1, 512, 14, 14]               0\n",
            "AdaptiveAvgPool2d-71            [-1, 512, 1, 1]               0\n",
            "          Flatten-72                  [-1, 512]               0\n",
            "           Linear-73                  [-1, 512]         262,656\n",
            "      BatchNorm1d-74                  [-1, 512]           1,024\n",
            "EfficientFRBackbone-75                  [-1, 512]               0\n",
            "================================================================\n",
            "Total params: 1,162,368\n",
            "Trainable params: 1,162,368\n",
            "Non-trainable params: 0\n",
            "----------------------------------------------------------------\n",
            "Input size (MB): 0.57\n",
            "Forward/backward pass size (MB): 189.89\n",
            "Params size (MB): 4.43\n",
            "Estimated Total Size (MB): 194.90\n",
            "----------------------------------------------------------------\n"
          ]
        }
      ],
      "source": [
        "from torchsummary import summary\n",
        "\n",
        "summary(model, input_size=(3, 224, 224))"
      ]
    },
    {
      "cell_type": "code",
      "execution_count": null,
      "id": "c4bb293e",
      "metadata": {
        "execution": {
          "iopub.execute_input": "2025-08-03T12:50:06.713920Z",
          "iopub.status.busy": "2025-08-03T12:50:06.713384Z",
          "iopub.status.idle": "2025-08-03T12:50:06.719885Z",
          "shell.execute_reply": "2025-08-03T12:50:06.719077Z"
        },
        "id": "c4bb293e",
        "papermill": {
          "duration": 0.022506,
          "end_time": "2025-08-03T12:50:06.720956",
          "exception": false,
          "start_time": "2025-08-03T12:50:06.698450",
          "status": "completed"
        },
        "tags": [],
        "outputId": "6c9477d7-930e-4c4d-c9fd-caaf3be72be4"
      },
      "outputs": [
        {
          "name": "stderr",
          "output_type": "stream",
          "text": [
            "/usr/local/lib/python3.11/dist-packages/torch/optim/lr_scheduler.py:62: UserWarning: The verbose parameter is deprecated. Please use get_last_lr() to access the learning rate.\n",
            "  warnings.warn(\n"
          ]
        }
      ],
      "source": [
        "EPOCHS = 23\n",
        "learning_rate = 1e-3\n",
        "criterion = CrossEntropyLoss()\n",
        "optimizer = torch.optim.Adam(model.parameters(), lr=learning_rate)\n",
        "scheduler = ReduceLROnPlateau(optimizer, mode='max', factor=0.5, patience=2, verbose=True)"
      ]
    },
    {
      "cell_type": "code",
      "execution_count": null,
      "id": "50f42ab4",
      "metadata": {
        "execution": {
          "iopub.execute_input": "2025-08-03T12:50:06.750329Z",
          "iopub.status.busy": "2025-08-03T12:50:06.750080Z",
          "iopub.status.idle": "2025-08-03T22:34:03.503048Z",
          "shell.execute_reply": "2025-08-03T22:34:03.502243Z"
        },
        "id": "50f42ab4",
        "papermill": {
          "duration": 35036.769721,
          "end_time": "2025-08-03T22:34:03.504449",
          "exception": false,
          "start_time": "2025-08-03T12:50:06.734728",
          "status": "completed"
        },
        "tags": [],
        "outputId": "310add56-17a7-435a-c170-1a9531874441"
      },
      "outputs": [
        {
          "name": "stdout",
          "output_type": "stream",
          "text": [
            "Starting training...\n"
          ]
        },
        {
          "name": "stderr",
          "output_type": "stream",
          "text": [
            "Epoch 1 [Train]: 100%|██████████| 1360/1360 [37:24<00:00,  1.65s/it, loss=9.51]\n",
            "Epoch 1/23 [Val]: 100%|██████████| 112/112 [02:31<00:00,  1.35s/it, val_loss=16.8]\n"
          ]
        },
        {
          "name": "stdout",
          "output_type": "stream",
          "text": [
            "\n",
            "Epoch 1/23 Summary:\n",
            "Train Loss: 10.1248 | Acc: 0.0710\n",
            "Val   Loss: 15.4776 | Acc: 0.0007\n",
            "Current Learning Rate: 0.001000\n",
            "------------------------------------------------------------\n"
          ]
        },
        {
          "name": "stderr",
          "output_type": "stream",
          "text": [
            "Epoch 2 [Train]: 100%|██████████| 1360/1360 [24:53<00:00,  1.10s/it, loss=9.54]\n",
            "Epoch 2/23 [Val]: 100%|██████████| 112/112 [01:33<00:00,  1.19it/s, val_loss=14.6]\n"
          ]
        },
        {
          "name": "stdout",
          "output_type": "stream",
          "text": [
            "\n",
            "Epoch 2/23 Summary:\n",
            "Train Loss: 8.3970 | Acc: 0.1423\n",
            "Val   Loss: 14.0558 | Acc: 0.0039\n",
            "Current Learning Rate: 0.001000\n",
            "------------------------------------------------------------\n"
          ]
        },
        {
          "name": "stderr",
          "output_type": "stream",
          "text": [
            "Epoch 3 [Train]: 100%|██████████| 1360/1360 [21:57<00:00,  1.03it/s, loss=8.64]\n",
            "Epoch 3/23 [Val]: 100%|██████████| 112/112 [01:27<00:00,  1.28it/s, val_loss=12.2]\n"
          ]
        },
        {
          "name": "stdout",
          "output_type": "stream",
          "text": [
            "\n",
            "Epoch 3/23 Summary:\n",
            "Train Loss: 7.3004 | Acc: 0.2016\n",
            "Val   Loss: 12.5543 | Acc: 0.0180\n",
            "Current Learning Rate: 0.001000\n",
            "------------------------------------------------------------\n"
          ]
        },
        {
          "name": "stderr",
          "output_type": "stream",
          "text": [
            "Epoch 4 [Train]: 100%|██████████| 1360/1360 [23:28<00:00,  1.04s/it, loss=7.73]\n",
            "Epoch 4/23 [Val]: 100%|██████████| 112/112 [01:23<00:00,  1.34it/s, val_loss=10.6]\n"
          ]
        },
        {
          "name": "stdout",
          "output_type": "stream",
          "text": [
            "\n",
            "Epoch 4/23 Summary:\n",
            "Train Loss: 6.4711 | Acc: 0.2546\n",
            "Val   Loss: 11.1045 | Acc: 0.0429\n",
            "Current Learning Rate: 0.001000\n",
            "------------------------------------------------------------\n"
          ]
        },
        {
          "name": "stderr",
          "output_type": "stream",
          "text": [
            "Epoch 5 [Train]: 100%|██████████| 1360/1360 [22:39<00:00,  1.00it/s, loss=6.12]\n",
            "Epoch 5/23 [Val]: 100%|██████████| 112/112 [01:31<00:00,  1.22it/s, val_loss=9.36]\n"
          ]
        },
        {
          "name": "stdout",
          "output_type": "stream",
          "text": [
            "\n",
            "Epoch 5/23 Summary:\n",
            "Train Loss: 5.8052 | Acc: 0.3014\n",
            "Val   Loss: 10.5028 | Acc: 0.0561\n",
            "Current Learning Rate: 0.001000\n",
            "------------------------------------------------------------\n"
          ]
        },
        {
          "name": "stderr",
          "output_type": "stream",
          "text": [
            "Epoch 6 [Train]: 100%|██████████| 1360/1360 [23:11<00:00,  1.02s/it, loss=4.87]\n",
            "Epoch 6/23 [Val]: 100%|██████████| 112/112 [01:24<00:00,  1.32it/s, val_loss=8.98]\n"
          ]
        },
        {
          "name": "stdout",
          "output_type": "stream",
          "text": [
            "\n",
            "Epoch 6/23 Summary:\n",
            "Train Loss: 5.2618 | Acc: 0.3448\n",
            "Val   Loss: 9.1007 | Acc: 0.1111\n",
            "Current Learning Rate: 0.001000\n",
            "------------------------------------------------------------\n"
          ]
        },
        {
          "name": "stderr",
          "output_type": "stream",
          "text": [
            "Epoch 7 [Train]: 100%|██████████| 1360/1360 [27:53<00:00,  1.23s/it, loss=3.94]\n",
            "Epoch 7/23 [Val]: 100%|██████████| 112/112 [03:20<00:00,  1.79s/it, val_loss=6.34]\n"
          ]
        },
        {
          "name": "stdout",
          "output_type": "stream",
          "text": [
            "\n",
            "Epoch 7/23 Summary:\n",
            "Train Loss: 4.8135 | Acc: 0.3824\n",
            "Val   Loss: 8.2762 | Acc: 0.1412\n",
            "Current Learning Rate: 0.001000\n",
            "------------------------------------------------------------\n"
          ]
        },
        {
          "name": "stderr",
          "output_type": "stream",
          "text": [
            "Epoch 8 [Train]: 100%|██████████| 1360/1360 [24:10<00:00,  1.07s/it, loss=4.67]\n",
            "Epoch 8/23 [Val]: 100%|██████████| 112/112 [01:29<00:00,  1.26it/s, val_loss=8.58]\n"
          ]
        },
        {
          "name": "stdout",
          "output_type": "stream",
          "text": [
            "\n",
            "Epoch 8/23 Summary:\n",
            "Train Loss: 4.4190 | Acc: 0.4166\n",
            "Val   Loss: 7.6776 | Acc: 0.1893\n",
            "Current Learning Rate: 0.001000\n",
            "------------------------------------------------------------\n"
          ]
        },
        {
          "name": "stderr",
          "output_type": "stream",
          "text": [
            "Epoch 9 [Train]: 100%|██████████| 1360/1360 [23:26<00:00,  1.03s/it, loss=4.4]\n",
            "Epoch 9/23 [Val]: 100%|██████████| 112/112 [01:20<00:00,  1.38it/s, val_loss=7.63]\n"
          ]
        },
        {
          "name": "stdout",
          "output_type": "stream",
          "text": [
            "\n",
            "Epoch 9/23 Summary:\n",
            "Train Loss: 4.0820 | Acc: 0.4459\n",
            "Val   Loss: 7.2691 | Acc: 0.2227\n",
            "Current Learning Rate: 0.001000\n",
            "------------------------------------------------------------\n"
          ]
        },
        {
          "name": "stderr",
          "output_type": "stream",
          "text": [
            "Epoch 10 [Train]: 100%|██████████| 1360/1360 [25:08<00:00,  1.11s/it, loss=4.55]\n",
            "Epoch 10/23 [Val]: 100%|██████████| 112/112 [01:57<00:00,  1.05s/it, val_loss=5.47]\n"
          ]
        },
        {
          "name": "stdout",
          "output_type": "stream",
          "text": [
            "\n",
            "Epoch 10/23 Summary:\n",
            "Train Loss: 3.7792 | Acc: 0.4735\n",
            "Val   Loss: 6.9095 | Acc: 0.2512\n",
            "Current Learning Rate: 0.001000\n",
            "------------------------------------------------------------\n"
          ]
        },
        {
          "name": "stderr",
          "output_type": "stream",
          "text": [
            "Epoch 11 [Train]: 100%|██████████| 1360/1360 [25:00<00:00,  1.10s/it, loss=5.92]\n",
            "Epoch 11/23 [Val]: 100%|██████████| 112/112 [01:22<00:00,  1.36it/s, val_loss=9.28]\n"
          ]
        },
        {
          "name": "stdout",
          "output_type": "stream",
          "text": [
            "\n",
            "Epoch 11/23 Summary:\n",
            "Train Loss: 3.5224 | Acc: 0.4968\n",
            "Val   Loss: 7.0438 | Acc: 0.2370\n",
            "Current Learning Rate: 0.001000\n",
            "------------------------------------------------------------\n"
          ]
        },
        {
          "name": "stderr",
          "output_type": "stream",
          "text": [
            "Epoch 12 [Train]: 100%|██████████| 1360/1360 [22:36<00:00,  1.00it/s, loss=5.31]\n",
            "Epoch 12/23 [Val]: 100%|██████████| 112/112 [01:24<00:00,  1.32it/s, val_loss=5.45]\n"
          ]
        },
        {
          "name": "stdout",
          "output_type": "stream",
          "text": [
            "\n",
            "Epoch 12/23 Summary:\n",
            "Train Loss: 3.2867 | Acc: 0.5199\n",
            "Val   Loss: 6.3356 | Acc: 0.3087\n",
            "Current Learning Rate: 0.001000\n",
            "------------------------------------------------------------\n"
          ]
        },
        {
          "name": "stderr",
          "output_type": "stream",
          "text": [
            "Epoch 13 [Train]: 100%|██████████| 1360/1360 [21:29<00:00,  1.06it/s, loss=2.87]\n",
            "Epoch 13/23 [Val]: 100%|██████████| 112/112 [01:23<00:00,  1.34it/s, val_loss=6.6]\n"
          ]
        },
        {
          "name": "stdout",
          "output_type": "stream",
          "text": [
            "\n",
            "Epoch 13/23 Summary:\n",
            "Train Loss: 3.0689 | Acc: 0.5420\n",
            "Val   Loss: 6.3355 | Acc: 0.3116\n",
            "Current Learning Rate: 0.001000\n",
            "------------------------------------------------------------\n"
          ]
        },
        {
          "name": "stderr",
          "output_type": "stream",
          "text": [
            "Epoch 14 [Train]: 100%|██████████| 1360/1360 [21:25<00:00,  1.06it/s, loss=2.87]\n",
            "Epoch 14/23 [Val]: 100%|██████████| 112/112 [01:18<00:00,  1.42it/s, val_loss=7.08]\n"
          ]
        },
        {
          "name": "stdout",
          "output_type": "stream",
          "text": [
            "\n",
            "Epoch 14/23 Summary:\n",
            "Train Loss: 2.8840 | Acc: 0.5596\n",
            "Val   Loss: 6.1882 | Acc: 0.3315\n",
            "Current Learning Rate: 0.001000\n",
            "------------------------------------------------------------\n"
          ]
        },
        {
          "name": "stderr",
          "output_type": "stream",
          "text": [
            "Epoch 15 [Train]: 100%|██████████| 1360/1360 [21:45<00:00,  1.04it/s, loss=4.12]\n",
            "Epoch 15/23 [Val]: 100%|██████████| 112/112 [01:36<00:00,  1.16it/s, val_loss=4.75]\n"
          ]
        },
        {
          "name": "stdout",
          "output_type": "stream",
          "text": [
            "\n",
            "Epoch 15/23 Summary:\n",
            "Train Loss: 2.7145 | Acc: 0.5778\n",
            "Val   Loss: 5.5648 | Acc: 0.3844\n",
            "Current Learning Rate: 0.001000\n",
            "------------------------------------------------------------\n"
          ]
        },
        {
          "name": "stderr",
          "output_type": "stream",
          "text": [
            "Epoch 16 [Train]: 100%|██████████| 1360/1360 [23:57<00:00,  1.06s/it, loss=3.09]\n",
            "Epoch 16/23 [Val]: 100%|██████████| 112/112 [01:20<00:00,  1.38it/s, val_loss=7.04]\n"
          ]
        },
        {
          "name": "stdout",
          "output_type": "stream",
          "text": [
            "\n",
            "Epoch 16/23 Summary:\n",
            "Train Loss: 2.5589 | Acc: 0.5936\n",
            "Val   Loss: 5.6111 | Acc: 0.3762\n",
            "Current Learning Rate: 0.001000\n",
            "------------------------------------------------------------\n"
          ]
        },
        {
          "name": "stderr",
          "output_type": "stream",
          "text": [
            "Epoch 17 [Train]: 100%|██████████| 1360/1360 [25:00<00:00,  1.10s/it, loss=3.8]\n",
            "Epoch 17/23 [Val]: 100%|██████████| 112/112 [01:29<00:00,  1.25it/s, val_loss=6.6]\n"
          ]
        },
        {
          "name": "stdout",
          "output_type": "stream",
          "text": [
            "\n",
            "Epoch 17/23 Summary:\n",
            "Train Loss: 2.4014 | Acc: 0.6099\n",
            "Val   Loss: 5.8003 | Acc: 0.3659\n",
            "Current Learning Rate: 0.001000\n",
            "------------------------------------------------------------\n"
          ]
        },
        {
          "name": "stderr",
          "output_type": "stream",
          "text": [
            "Epoch 18 [Train]: 100%|██████████| 1360/1360 [21:43<00:00,  1.04it/s, loss=6.69]\n",
            "Epoch 18/23 [Val]: 100%|██████████| 112/112 [01:19<00:00,  1.40it/s, val_loss=7.68]\n"
          ]
        },
        {
          "name": "stdout",
          "output_type": "stream",
          "text": [
            "\n",
            "Epoch 18/23 Summary:\n",
            "Train Loss: 2.2742 | Acc: 0.6239\n",
            "Val   Loss: 5.4694 | Acc: 0.3954\n",
            "Current Learning Rate: 0.001000\n",
            "------------------------------------------------------------\n"
          ]
        },
        {
          "name": "stderr",
          "output_type": "stream",
          "text": [
            "Epoch 19 [Train]: 100%|██████████| 1360/1360 [22:17<00:00,  1.02it/s, loss=3.24]\n",
            "Epoch 19/23 [Val]: 100%|██████████| 112/112 [01:21<00:00,  1.38it/s, val_loss=5.47]\n"
          ]
        },
        {
          "name": "stdout",
          "output_type": "stream",
          "text": [
            "\n",
            "Epoch 19/23 Summary:\n",
            "Train Loss: 2.1506 | Acc: 0.6381\n",
            "Val   Loss: 5.4130 | Acc: 0.4016\n",
            "Current Learning Rate: 0.001000\n",
            "------------------------------------------------------------\n"
          ]
        },
        {
          "name": "stderr",
          "output_type": "stream",
          "text": [
            "Epoch 20 [Train]: 100%|██████████| 1360/1360 [21:44<00:00,  1.04it/s, loss=2.45]\n",
            "Epoch 20/23 [Val]: 100%|██████████| 112/112 [01:45<00:00,  1.06it/s, val_loss=6.15]\n"
          ]
        },
        {
          "name": "stdout",
          "output_type": "stream",
          "text": [
            "\n",
            "Epoch 20/23 Summary:\n",
            "Train Loss: 2.0335 | Acc: 0.6512\n",
            "Val   Loss: 5.5077 | Acc: 0.3976\n",
            "Current Learning Rate: 0.001000\n",
            "------------------------------------------------------------\n"
          ]
        },
        {
          "name": "stderr",
          "output_type": "stream",
          "text": [
            "Epoch 21 [Train]: 100%|██████████| 1360/1360 [22:33<00:00,  1.00it/s, loss=2.25]\n",
            "Epoch 21/23 [Val]: 100%|██████████| 112/112 [01:25<00:00,  1.30it/s, val_loss=7.11]\n"
          ]
        },
        {
          "name": "stdout",
          "output_type": "stream",
          "text": [
            "\n",
            "Epoch 21/23 Summary:\n",
            "Train Loss: 1.9242 | Acc: 0.6643\n",
            "Val   Loss: 5.3931 | Acc: 0.4154\n",
            "Current Learning Rate: 0.001000\n",
            "------------------------------------------------------------\n"
          ]
        },
        {
          "name": "stderr",
          "output_type": "stream",
          "text": [
            "Epoch 22 [Train]: 100%|██████████| 1360/1360 [21:24<00:00,  1.06it/s, loss=5.96]\n",
            "Epoch 22/23 [Val]: 100%|██████████| 112/112 [01:24<00:00,  1.32it/s, val_loss=4.89]\n"
          ]
        },
        {
          "name": "stdout",
          "output_type": "stream",
          "text": [
            "\n",
            "Epoch 22/23 Summary:\n",
            "Train Loss: 1.8263 | Acc: 0.6768\n",
            "Val   Loss: 5.1434 | Acc: 0.4305\n",
            "Current Learning Rate: 0.001000\n",
            "------------------------------------------------------------\n"
          ]
        },
        {
          "name": "stderr",
          "output_type": "stream",
          "text": [
            "Epoch 23 [Train]: 100%|██████████| 1360/1360 [22:03<00:00,  1.03it/s, loss=3.51]\n",
            "Epoch 23/23 [Val]: 100%|██████████| 112/112 [01:27<00:00,  1.28it/s, val_loss=5.15]"
          ]
        },
        {
          "name": "stdout",
          "output_type": "stream",
          "text": [
            "\n",
            "Epoch 23/23 Summary:\n",
            "Train Loss: 1.7359 | Acc: 0.6869\n",
            "Val   Loss: 5.2288 | Acc: 0.4271\n",
            "Current Learning Rate: 0.001000\n",
            "------------------------------------------------------------\n",
            "Training completed in: 9:43:56.727036\n"
          ]
        },
        {
          "name": "stderr",
          "output_type": "stream",
          "text": [
            "\n"
          ]
        }
      ],
      "source": [
        "print(\"Starting training...\")\n",
        "history = {\n",
        "    'train_loss': [], 'dev_loss': [],\n",
        "    'train_acc': [], 'dev_acc': [],\n",
        "    'lr': []\n",
        "}\n",
        "\n",
        "start_time = dt.datetime.now()\n",
        "\n",
        "for epoch in range(EPOCHS):\n",
        "    # === Training phase ===\n",
        "    model.train()\n",
        "    epoch_train_loss = 0\n",
        "    train_correct = 0\n",
        "    train_total = 0\n",
        "\n",
        "    train_loop = tqdm(train_dataloader, desc=f\"Epoch {epoch+1} [Train]\")\n",
        "    for images, labels in train_loop:\n",
        "        images, labels = images.to(device), labels.to(device)\n",
        "\n",
        "        optimizer.zero_grad()\n",
        "        outputs = model(images, labels)\n",
        "        loss = criterion(outputs, labels)\n",
        "        loss.backward()\n",
        "        optimizer.step()\n",
        "\n",
        "        epoch_train_loss += loss.item()\n",
        "        preds = torch.argmax(outputs, 1)\n",
        "        train_correct += (preds == labels).sum().item()\n",
        "        train_total += labels.size(0)\n",
        "\n",
        "        train_loop.set_postfix(loss=loss.item())\n",
        "\n",
        "    # === Validation phase ===\n",
        "    model.eval()\n",
        "    epoch_dev_loss = 0\n",
        "    dev_correct = 0\n",
        "    dev_total = 0\n",
        "\n",
        "    with torch.no_grad():\n",
        "        dev_loop = tqdm(val_dataloader, desc=f\"Epoch {epoch+1}/{EPOCHS} [Val]\")\n",
        "        for images, labels in dev_loop:\n",
        "            images, labels = images.to(device), labels.to(device)\n",
        "\n",
        "            outputs = model(images, labels)\n",
        "            loss = criterion(outputs, labels)\n",
        "            epoch_dev_loss += loss.item()\n",
        "\n",
        "            preds = torch.argmax(outputs, 1)\n",
        "            dev_correct += (preds == labels).sum().item()\n",
        "            dev_total += labels.size(0)\n",
        "\n",
        "            dev_loop.set_postfix(val_loss=loss.item())\n",
        "\n",
        "    # === Calculate metrics ===\n",
        "    train_loss = epoch_train_loss / len(train_dataloader)\n",
        "    dev_loss = epoch_dev_loss / len(val_dataloader)\n",
        "    train_acc = train_correct / train_total\n",
        "    dev_acc = dev_correct / dev_total\n",
        "    current_lr = optimizer.param_groups[0]['lr']\n",
        "\n",
        "    # === Update history ===\n",
        "    history['train_loss'].append(train_loss)\n",
        "    history['dev_loss'].append(dev_loss)\n",
        "    history['train_acc'].append(train_acc)\n",
        "    history['dev_acc'].append(dev_acc)\n",
        "    history['lr'].append(current_lr)\n",
        "\n",
        "    # Update scheduler\n",
        "    scheduler.step(dev_acc)\n",
        "\n",
        "    # === Print epoch summary ===\n",
        "    print(f\"\\nEpoch {epoch+1}/{EPOCHS} Summary:\")\n",
        "    print(f\"Train Loss: {train_loss:.4f} | Acc: {train_acc:.4f}\")\n",
        "    print(f\"Val   Loss: {dev_loss:.4f} | Acc: {dev_acc:.4f}\")\n",
        "    print(f\"Current Learning Rate: {current_lr:.6f}\")\n",
        "    print(\"-\" * 60)\n",
        "\n",
        "    # === Save checkpoint every 10 epochs ===\n",
        "    if (epoch + 1) % 10 == 0:\n",
        "        torch.save({\n",
        "            'epoch': epoch + 1,\n",
        "            'model_state_dict': model.state_dict(),\n",
        "            'optimizer_state_dict': optimizer.state_dict(),\n",
        "            'scheduler_state_dict': scheduler.state_dict(),\n",
        "            'history': history\n",
        "        }, f'arcface_model_artifact_{epoch}')\n",
        "\n",
        "# Training completion\n",
        "end_time = dt.datetime.now()\n",
        "print(f\"Training completed in: {end_time - start_time}\")\n",
        "torch.save(model.state_dict(), f'arcface_model_final_{EPOCHS}.pth')"
      ]
    },
    {
      "cell_type": "code",
      "execution_count": null,
      "id": "057c2c12",
      "metadata": {
        "execution": {
          "iopub.execute_input": "2025-08-03T22:34:09.284514Z",
          "iopub.status.busy": "2025-08-03T22:34:09.284236Z",
          "iopub.status.idle": "2025-08-03T22:34:09.962860Z",
          "shell.execute_reply": "2025-08-03T22:34:09.962174Z"
        },
        "id": "057c2c12",
        "papermill": {
          "duration": 3.700307,
          "end_time": "2025-08-03T22:34:09.965245",
          "exception": false,
          "start_time": "2025-08-03T22:34:06.264938",
          "status": "completed"
        },
        "tags": [],
        "outputId": "6a25649f-88c3-4a1a-ec4a-611c4fbcb024"
      },
      "outputs": [
        {
          "data": {
            "image/png": "[encoded data removed]",
            "text/plain": [
              "<Figure size 1200x1000 with 2 Axes>"
            ]
          },
          "metadata": {},
          "output_type": "display_data"
        }
      ],
      "source": [
        "# Plot training history\n",
        "plt.figure(figsize=(12, 10))\n",
        "plt.subplot(2, 1, 1)\n",
        "plt.plot(history['train_loss'], label='Train Loss')\n",
        "plt.plot(history['dev_loss'], label='Validation Loss')\n",
        "plt.title('Training and Validation Loss')\n",
        "plt.xlabel('Epochs')\n",
        "plt.ylabel('Loss')\n",
        "plt.legend()\n",
        "plt.grid(True)\n",
        "\n",
        "plt.subplot(2, 1, 2)\n",
        "plt.plot(history['train_acc'], label='Train Accuracy')\n",
        "plt.plot(history['dev_acc'], label='Validation Accuracy')\n",
        "plt.title('Training and Validation Accuracy')\n",
        "plt.xlabel('Epochs')\n",
        "plt.ylabel('Accuracy')\n",
        "plt.legend()\n",
        "plt.grid(True)\n",
        "\n",
        "plt.tight_layout()\n",
        "plt.savefig('training_history.png')\n",
        "plt.show()"
      ]
    },
    {
      "cell_type": "code",
      "source": [
        "def face_age_prediction(model, image):\n",
        "    # Use same transformer as training\n",
        "    transformer = transforms.Compose([\n",
        "        transforms.ToTensor(),\n",
        "        transforms.ConvertImageDtype(torch.float)\n",
        "    ])\n",
        "\n",
        "    # If it's a NumPy array, convert to PIL Image first\n",
        "    if isinstance(image, np.ndarray):\n",
        "        from PIL import Image\n",
        "        image = Image.fromarray(image)\n",
        "\n",
        "    image = transformer(image)  # Now it's a float tensor in [0,1], shape (C, H, W)\n",
        "    image = image.unsqueeze(0)  # Add batch dimension\n",
        "\n",
        "    image = image.to(next(model.parameters()).device)\n",
        "\n",
        "    model.eval()\n",
        "    with torch.no_grad():\n",
        "        embedding = model(image)  # model without label → normalized embeddings\n",
        "    return embedding.squeeze().cpu()"
      ],
      "metadata": {
        "id": "2TAvFSAxI6Dv"
      },
      "id": "2TAvFSAxI6Dv",
      "execution_count": 34,
      "outputs": []
    },
    {
      "cell_type": "code",
      "source": [
        "image1 = cv2.imread(\"/content/vggface2/val/n001190/0100_01.jpg\")\n",
        "image2 = cv2.imread(\"/content/vggface2/val/n001211/0059_01.jpg\")\n",
        "img_rgb1 = cv2.cvtColor(image1, cv2.COLOR_BGR2RGB)\n",
        "img_rgb2 = cv2.cvtColor(image2, cv2.COLOR_BGR2RGB)"
      ],
      "metadata": {
        "id": "EzJ97keSI50s"
      },
      "id": "EzJ97keSI50s",
      "execution_count": 33,
      "outputs": []
    },
    {
      "cell_type": "code",
      "source": [
        "img1 = face_age_prediction(model, img_rgb1)\n",
        "img2 = face_age_prediction(model, img_rgb2)\n",
        "emb1 = img1.view(img1.size(0), -1)\n",
        "emb2 = img2.view(img2.size(0), -1)"
      ],
      "metadata": {
        "id": "VM6Shf3_JLPR"
      },
      "id": "VM6Shf3_JLPR",
      "execution_count": 36,
      "outputs": []
    },
    {
      "cell_type": "code",
      "source": [
        "cos_sim = F.cosine_similarity(emb1, emb2)\n",
        "print(cos_sim.shape)  # torch.Size([128])\n",
        "\n",
        "# Get average similarity\n",
        "avg_sim = cos_sim.mean().item()\n",
        "print(\"Average similarity:\", avg_sim)"
      ],
      "metadata": {
        "colab": {
          "base_uri": "https://localhost:8080/"
        },
        "id": "3Tzt18mPJPhn",
        "outputId": "a3d2370e-3b0e-4a9a-a197-28dc81ef773f"
      },
      "id": "3Tzt18mPJPhn",
      "execution_count": 43,
      "outputs": [
        {
          "output_type": "stream",
          "name": "stdout",
          "text": [
            "torch.Size([512])\n",
            "Average similarity: 0.25390625\n"
          ]
        }
      ]
    }
  ],
  "metadata": {
    "accelerator": "GPU",
    "colab": {
      "gpuType": "T4",
      "provenance": [],
      "include_colab_link": true
    },
    "kaggle": {
      "accelerator": "gpu",
      "dataSources": [
        {
          "datasetId": 2138237,
          "sourceId": 3557332,
          "sourceType": "datasetVersion"
        },
        {
          "isSourceIdPinned": true,
          "modelId": 419316,
          "modelInstanceId": 401197,
          "sourceId": 505202,
          "sourceType": "modelInstanceVersion"
        }
      ],
      "dockerImageVersionId": 31090,
      "isGpuEnabled": true,
      "isInternetEnabled": true,
      "language": "python",
      "sourceType": "notebook"
    },
    "kernelspec": {
      "display_name": "Python 3",
      "language": "python",
      "name": "python3"
    },
    "language_info": {
      "codemirror_mode": {
        "name": "ipython",
        "version": 3
      },
      "file_extension": ".py",
      "mimetype": "text/x-python",
      "name": "python",
      "nbconvert_exporter": "python",
      "pygments_lexer": "ipython3",
      "version": "3.11.13"
    },
    "papermill": {
      "default_parameters": {},
      "duration": 35080.796917,
      "end_time": "2025-08-03T22:34:15.809643",
      "environment_variables": {},
      "exception": null,
      "input_path": "__notebook__.ipynb",
      "output_path": "__notebook__.ipynb",
      "parameters": {},
      "start_time": "2025-08-03T12:49:35.012726",
      "version": "2.6.0"
    }
  },
  "nbformat": 4,
  "nbformat_minor": 5
}